{
  "cells": [
    {
      "cell_type": "markdown",
      "metadata": {
        "id": "view-in-github",
        "colab_type": "text"
      },
      "source": [
        "<a href=\"https://colab.research.google.com/github/cellatlas/cellatlas/blob/main/docs/QC_MAT.ipynb\" target=\"_parent\"><img src=\"https://colab.research.google.com/assets/colab-badge.svg\" alt=\"Open In Colab\"/></a>"
      ]
    },
    {
      "cell_type": "markdown",
      "source": [
        "---\n",
        "title: QC Matrix\n",
        "date: 2024-07-07\n",
        "authors:\n",
        "  - name: A. Sina Booeshaghi\n",
        "---"
      ],
      "metadata": {
        "id": "qq0q-MSYHSns"
      }
    },
    {
      "cell_type": "markdown",
      "source": [
        "Preprocessing produces count matrices that can also be QC'ed. Below are important count matrix level QC measures that can be useful for assessing the quality of the data.\n",
        "\n",
        "We will use the [`mx`](https://github.com/cellatlas/mx/) tool to generate these matrix level QC metrics. First install `mx`:"
      ],
      "metadata": {
        "id": "90V9-6DJHceu"
      }
    },
    {
      "cell_type": "code",
      "source": [
        "!pip --quiet install git+https://github.com/cellatlas/mx/\n",
        "!git clone https://github.com/cellatlas/cellatlas.git\n",
        "!gunzip cellatlas/examples/CRX102288/raw/*\n",
        "\n",
        "!gunzip cellatlas/examples/CRX102288/raw/*\n",
        "!ln -s cellatlas/examples/CRX102288/raw/barcodes.txt .\n",
        "!ln -s cellatlas/examples/CRX102288/raw/genes.txt .\n",
        "!ln -s cellatlas/examples/CRX102288/raw/matrix.mtx .\n",
        "!ln -s cellatlas/examples/CRX102288/observation.json ."
      ],
      "metadata": {
        "id": "Ud4SQaVxHez4",
        "outputId": "5fbe65f3-df3f-4827-d3b6-8fa2bf218410",
        "colab": {
          "base_uri": "https://localhost:8080/"
        }
      },
      "execution_count": 1,
      "outputs": [
        {
          "output_type": "stream",
          "name": "stdout",
          "text": [
            "Collecting git+https://github.com/cellatlas/mx/\n",
            "  Cloning https://github.com/cellatlas/mx/ to /tmp/pip-req-build-tmlajfr3\n",
            "  Running command git clone --filter=blob:none --quiet https://github.com/cellatlas/mx/ /tmp/pip-req-build-tmlajfr3\n",
            "  Resolved https://github.com/cellatlas/mx/ to commit 1ce644679b95006ed3584baaa28652a94c48243f\n",
            "  Preparing metadata (setup.py) ... \u001b[?25l\u001b[?25hdone\n",
            "Requirement already satisfied: numpy in /usr/local/lib/python3.10/dist-packages (from mx==0.0.0) (1.25.2)\n",
            "Requirement already satisfied: pandas in /usr/local/lib/python3.10/dist-packages (from mx==0.0.0) (2.0.3)\n",
            "Requirement already satisfied: scikit-learn in /usr/local/lib/python3.10/dist-packages (from mx==0.0.0) (1.2.2)\n",
            "Requirement already satisfied: scipy in /usr/local/lib/python3.10/dist-packages (from mx==0.0.0) (1.11.4)\n",
            "Collecting kb-python (from mx==0.0.0)\n",
            "  Downloading kb_python-0.28.2-py3-none-any.whl (13.1 MB)\n",
            "\u001b[2K     \u001b[90m━━━━━━━━━━━━━━━━━━━━━━━━━━━━━━━━━━━━━━━━\u001b[0m \u001b[32m13.1/13.1 MB\u001b[0m \u001b[31m26.5 MB/s\u001b[0m eta \u001b[36m0:00:00\u001b[0m\n",
            "\u001b[?25hCollecting anndata>=0.6.22.post1 (from kb-python->mx==0.0.0)\n",
            "  Downloading anndata-0.10.8-py3-none-any.whl (124 kB)\n",
            "\u001b[2K     \u001b[90m━━━━━━━━━━━━━━━━━━━━━━━━━━━━━━━━━━━━━━━━\u001b[0m \u001b[32m124.4/124.4 kB\u001b[0m \u001b[31m13.5 MB/s\u001b[0m eta \u001b[36m0:00:00\u001b[0m\n",
            "\u001b[?25hRequirement already satisfied: h5py>=2.10.0 in /usr/local/lib/python3.10/dist-packages (from kb-python->mx==0.0.0) (3.9.0)\n",
            "Requirement already satisfied: Jinja2>2.10.1 in /usr/local/lib/python3.10/dist-packages (from kb-python->mx==0.0.0) (3.1.4)\n",
            "Collecting loompy>=3.0.6 (from kb-python->mx==0.0.0)\n",
            "  Downloading loompy-3.0.7.tar.gz (4.8 MB)\n",
            "\u001b[2K     \u001b[90m━━━━━━━━━━━━━━━━━━━━━━━━━━━━━━━━━━━━━━━━\u001b[0m \u001b[32m4.8/4.8 MB\u001b[0m \u001b[31m63.2 MB/s\u001b[0m eta \u001b[36m0:00:00\u001b[0m\n",
            "\u001b[?25h  Preparing metadata (setup.py) ... \u001b[?25l\u001b[?25hdone\n",
            "Requirement already satisfied: nbconvert>=5.6.0 in /usr/local/lib/python3.10/dist-packages (from kb-python->mx==0.0.0) (6.5.4)\n",
            "Requirement already satisfied: nbformat>=4.4.0 in /usr/local/lib/python3.10/dist-packages (from kb-python->mx==0.0.0) (5.10.4)\n",
            "Collecting ngs-tools>=1.8.5 (from kb-python->mx==0.0.0)\n",
            "  Downloading ngs_tools-1.8.5-py3-none-any.whl (45.2 MB)\n",
            "\u001b[2K     \u001b[90m━━━━━━━━━━━━━━━━━━━━━━━━━━━━━━━━━━━━━━━━\u001b[0m \u001b[32m45.2/45.2 MB\u001b[0m \u001b[31m11.5 MB/s\u001b[0m eta \u001b[36m0:00:00\u001b[0m\n",
            "\u001b[?25hCollecting pandas (from mx==0.0.0)\n",
            "  Downloading pandas-1.5.3-cp310-cp310-manylinux_2_17_x86_64.manylinux2014_x86_64.whl (12.1 MB)\n",
            "\u001b[2K     \u001b[90m━━━━━━━━━━━━━━━━━━━━━━━━━━━━━━━━━━━━━━━━\u001b[0m \u001b[32m12.1/12.1 MB\u001b[0m \u001b[31m53.5 MB/s\u001b[0m eta \u001b[36m0:00:00\u001b[0m\n",
            "\u001b[?25hRequirement already satisfied: plotly>=4.5.0 in /usr/local/lib/python3.10/dist-packages (from kb-python->mx==0.0.0) (5.15.0)\n",
            "Requirement already satisfied: requests>=2.22.0 in /usr/local/lib/python3.10/dist-packages (from kb-python->mx==0.0.0) (2.31.0)\n",
            "Collecting scanpy>=1.4.4.post1 (from kb-python->mx==0.0.0)\n",
            "  Downloading scanpy-1.10.2-py3-none-any.whl (2.1 MB)\n",
            "\u001b[2K     \u001b[90m━━━━━━━━━━━━━━━━━━━━━━━━━━━━━━━━━━━━━━━━\u001b[0m \u001b[32m2.1/2.1 MB\u001b[0m \u001b[31m79.2 MB/s\u001b[0m eta \u001b[36m0:00:00\u001b[0m\n",
            "\u001b[?25hRequirement already satisfied: typing-extensions>=3.7.4 in /usr/local/lib/python3.10/dist-packages (from kb-python->mx==0.0.0) (4.12.2)\n",
            "Requirement already satisfied: python-dateutil>=2.8.1 in /usr/local/lib/python3.10/dist-packages (from pandas->mx==0.0.0) (2.8.2)\n",
            "Requirement already satisfied: pytz>=2020.1 in /usr/local/lib/python3.10/dist-packages (from pandas->mx==0.0.0) (2023.4)\n",
            "Requirement already satisfied: joblib>=1.1.1 in /usr/local/lib/python3.10/dist-packages (from scikit-learn->mx==0.0.0) (1.4.2)\n",
            "Requirement already satisfied: threadpoolctl>=2.0.0 in /usr/local/lib/python3.10/dist-packages (from scikit-learn->mx==0.0.0) (3.5.0)\n",
            "Collecting array-api-compat!=1.5,>1.4 (from anndata>=0.6.22.post1->kb-python->mx==0.0.0)\n",
            "  Downloading array_api_compat-1.7.1-py3-none-any.whl (37 kB)\n",
            "Requirement already satisfied: exceptiongroup in /usr/local/lib/python3.10/dist-packages (from anndata>=0.6.22.post1->kb-python->mx==0.0.0) (1.2.1)\n",
            "Requirement already satisfied: natsort in /usr/local/lib/python3.10/dist-packages (from anndata>=0.6.22.post1->kb-python->mx==0.0.0) (8.4.0)\n",
            "Requirement already satisfied: packaging>=20.0 in /usr/local/lib/python3.10/dist-packages (from anndata>=0.6.22.post1->kb-python->mx==0.0.0) (24.1)\n",
            "Requirement already satisfied: MarkupSafe>=2.0 in /usr/local/lib/python3.10/dist-packages (from Jinja2>2.10.1->kb-python->mx==0.0.0) (2.1.5)\n",
            "Requirement already satisfied: setuptools in /usr/local/lib/python3.10/dist-packages (from loompy>=3.0.6->kb-python->mx==0.0.0) (67.7.2)\n",
            "Requirement already satisfied: numba in /usr/local/lib/python3.10/dist-packages (from loompy>=3.0.6->kb-python->mx==0.0.0) (0.58.1)\n",
            "Requirement already satisfied: click in /usr/local/lib/python3.10/dist-packages (from loompy>=3.0.6->kb-python->mx==0.0.0) (8.1.7)\n",
            "Collecting numpy-groupies (from loompy>=3.0.6->kb-python->mx==0.0.0)\n",
            "  Downloading numpy_groupies-0.11.1-py3-none-any.whl (40 kB)\n",
            "\u001b[2K     \u001b[90m━━━━━━━━━━━━━━━━━━━━━━━━━━━━━━━━━━━━━━━━\u001b[0m \u001b[32m40.5/40.5 kB\u001b[0m \u001b[31m3.9 MB/s\u001b[0m eta \u001b[36m0:00:00\u001b[0m\n",
            "\u001b[?25hRequirement already satisfied: lxml in /usr/local/lib/python3.10/dist-packages (from nbconvert>=5.6.0->kb-python->mx==0.0.0) (4.9.4)\n",
            "Requirement already satisfied: beautifulsoup4 in /usr/local/lib/python3.10/dist-packages (from nbconvert>=5.6.0->kb-python->mx==0.0.0) (4.12.3)\n",
            "Requirement already satisfied: bleach in /usr/local/lib/python3.10/dist-packages (from nbconvert>=5.6.0->kb-python->mx==0.0.0) (6.1.0)\n",
            "Requirement already satisfied: defusedxml in /usr/local/lib/python3.10/dist-packages (from nbconvert>=5.6.0->kb-python->mx==0.0.0) (0.7.1)\n",
            "Requirement already satisfied: entrypoints>=0.2.2 in /usr/local/lib/python3.10/dist-packages (from nbconvert>=5.6.0->kb-python->mx==0.0.0) (0.4)\n",
            "Requirement already satisfied: jupyter-core>=4.7 in /usr/local/lib/python3.10/dist-packages (from nbconvert>=5.6.0->kb-python->mx==0.0.0) (5.7.2)\n",
            "Requirement already satisfied: jupyterlab-pygments in /usr/local/lib/python3.10/dist-packages (from nbconvert>=5.6.0->kb-python->mx==0.0.0) (0.3.0)\n",
            "Requirement already satisfied: mistune<2,>=0.8.1 in /usr/local/lib/python3.10/dist-packages (from nbconvert>=5.6.0->kb-python->mx==0.0.0) (0.8.4)\n",
            "Requirement already satisfied: nbclient>=0.5.0 in /usr/local/lib/python3.10/dist-packages (from nbconvert>=5.6.0->kb-python->mx==0.0.0) (0.10.0)\n",
            "Requirement already satisfied: pandocfilters>=1.4.1 in /usr/local/lib/python3.10/dist-packages (from nbconvert>=5.6.0->kb-python->mx==0.0.0) (1.5.1)\n",
            "Requirement already satisfied: pygments>=2.4.1 in /usr/local/lib/python3.10/dist-packages (from nbconvert>=5.6.0->kb-python->mx==0.0.0) (2.16.1)\n",
            "Requirement already satisfied: tinycss2 in /usr/local/lib/python3.10/dist-packages (from nbconvert>=5.6.0->kb-python->mx==0.0.0) (1.3.0)\n",
            "Requirement already satisfied: traitlets>=5.0 in /usr/local/lib/python3.10/dist-packages (from nbconvert>=5.6.0->kb-python->mx==0.0.0) (5.7.1)\n",
            "Requirement already satisfied: fastjsonschema>=2.15 in /usr/local/lib/python3.10/dist-packages (from nbformat>=4.4.0->kb-python->mx==0.0.0) (2.20.0)\n",
            "Requirement already satisfied: jsonschema>=2.6 in /usr/local/lib/python3.10/dist-packages (from nbformat>=4.4.0->kb-python->mx==0.0.0) (4.19.2)\n",
            "Collecting pysam>=0.16.0.1 (from ngs-tools>=1.8.5->kb-python->mx==0.0.0)\n",
            "  Downloading pysam-0.22.1-cp310-cp310-manylinux_2_28_x86_64.whl (22.0 MB)\n",
            "\u001b[2K     \u001b[90m━━━━━━━━━━━━━━━━━━━━━━━━━━━━━━━━━━━━━━━━\u001b[0m \u001b[32m22.0/22.0 MB\u001b[0m \u001b[31m41.2 MB/s\u001b[0m eta \u001b[36m0:00:00\u001b[0m\n",
            "\u001b[?25hCollecting shortuuid>=1.0.1 (from ngs-tools>=1.8.5->kb-python->mx==0.0.0)\n",
            "  Downloading shortuuid-1.0.13-py3-none-any.whl (10 kB)\n",
            "Requirement already satisfied: tqdm>=4.50.0 in /usr/local/lib/python3.10/dist-packages (from ngs-tools>=1.8.5->kb-python->mx==0.0.0) (4.66.4)\n",
            "Requirement already satisfied: tenacity>=6.2.0 in /usr/local/lib/python3.10/dist-packages (from plotly>=4.5.0->kb-python->mx==0.0.0) (8.4.2)\n",
            "Requirement already satisfied: six>=1.5 in /usr/local/lib/python3.10/dist-packages (from python-dateutil>=2.8.1->pandas->mx==0.0.0) (1.16.0)\n",
            "Requirement already satisfied: charset-normalizer<4,>=2 in /usr/local/lib/python3.10/dist-packages (from requests>=2.22.0->kb-python->mx==0.0.0) (3.3.2)\n",
            "Requirement already satisfied: idna<4,>=2.5 in /usr/local/lib/python3.10/dist-packages (from requests>=2.22.0->kb-python->mx==0.0.0) (3.7)\n",
            "Requirement already satisfied: urllib3<3,>=1.21.1 in /usr/local/lib/python3.10/dist-packages (from requests>=2.22.0->kb-python->mx==0.0.0) (2.0.7)\n",
            "Requirement already satisfied: certifi>=2017.4.17 in /usr/local/lib/python3.10/dist-packages (from requests>=2.22.0->kb-python->mx==0.0.0) (2024.6.2)\n",
            "Collecting legacy-api-wrap>=1.4 (from scanpy>=1.4.4.post1->kb-python->mx==0.0.0)\n",
            "  Downloading legacy_api_wrap-1.4-py3-none-any.whl (15 kB)\n",
            "Requirement already satisfied: matplotlib>=3.6 in /usr/local/lib/python3.10/dist-packages (from scanpy>=1.4.4.post1->kb-python->mx==0.0.0) (3.7.1)\n",
            "Requirement already satisfied: networkx>=2.7 in /usr/local/lib/python3.10/dist-packages (from scanpy>=1.4.4.post1->kb-python->mx==0.0.0) (3.3)\n",
            "Requirement already satisfied: patsy in /usr/local/lib/python3.10/dist-packages (from scanpy>=1.4.4.post1->kb-python->mx==0.0.0) (0.5.6)\n",
            "Collecting pynndescent>=0.5 (from scanpy>=1.4.4.post1->kb-python->mx==0.0.0)\n",
            "  Downloading pynndescent-0.5.13-py3-none-any.whl (56 kB)\n",
            "\u001b[2K     \u001b[90m━━━━━━━━━━━━━━━━━━━━━━━━━━━━━━━━━━━━━━━━\u001b[0m \u001b[32m56.9/56.9 kB\u001b[0m \u001b[31m7.2 MB/s\u001b[0m eta \u001b[36m0:00:00\u001b[0m\n",
            "\u001b[?25hRequirement already satisfied: seaborn>=0.13 in /usr/local/lib/python3.10/dist-packages (from scanpy>=1.4.4.post1->kb-python->mx==0.0.0) (0.13.1)\n",
            "Collecting session-info (from scanpy>=1.4.4.post1->kb-python->mx==0.0.0)\n",
            "  Downloading session_info-1.0.0.tar.gz (24 kB)\n",
            "  Preparing metadata (setup.py) ... \u001b[?25l\u001b[?25hdone\n",
            "Requirement already satisfied: statsmodels>=0.13 in /usr/local/lib/python3.10/dist-packages (from scanpy>=1.4.4.post1->kb-python->mx==0.0.0) (0.14.2)\n",
            "Collecting umap-learn!=0.5.0,>=0.5 (from scanpy>=1.4.4.post1->kb-python->mx==0.0.0)\n",
            "  Downloading umap_learn-0.5.6-py3-none-any.whl (85 kB)\n",
            "\u001b[2K     \u001b[90m━━━━━━━━━━━━━━━━━━━━━━━━━━━━━━━━━━━━━━━━\u001b[0m \u001b[32m85.7/85.7 kB\u001b[0m \u001b[31m10.7 MB/s\u001b[0m eta \u001b[36m0:00:00\u001b[0m\n",
            "\u001b[?25hRequirement already satisfied: attrs>=22.2.0 in /usr/local/lib/python3.10/dist-packages (from jsonschema>=2.6->nbformat>=4.4.0->kb-python->mx==0.0.0) (23.2.0)\n",
            "Requirement already satisfied: jsonschema-specifications>=2023.03.6 in /usr/local/lib/python3.10/dist-packages (from jsonschema>=2.6->nbformat>=4.4.0->kb-python->mx==0.0.0) (2023.12.1)\n",
            "Requirement already satisfied: referencing>=0.28.4 in /usr/local/lib/python3.10/dist-packages (from jsonschema>=2.6->nbformat>=4.4.0->kb-python->mx==0.0.0) (0.35.1)\n",
            "Requirement already satisfied: rpds-py>=0.7.1 in /usr/local/lib/python3.10/dist-packages (from jsonschema>=2.6->nbformat>=4.4.0->kb-python->mx==0.0.0) (0.18.1)\n",
            "Requirement already satisfied: platformdirs>=2.5 in /usr/local/lib/python3.10/dist-packages (from jupyter-core>=4.7->nbconvert>=5.6.0->kb-python->mx==0.0.0) (4.2.2)\n",
            "Requirement already satisfied: contourpy>=1.0.1 in /usr/local/lib/python3.10/dist-packages (from matplotlib>=3.6->scanpy>=1.4.4.post1->kb-python->mx==0.0.0) (1.2.1)\n",
            "Requirement already satisfied: cycler>=0.10 in /usr/local/lib/python3.10/dist-packages (from matplotlib>=3.6->scanpy>=1.4.4.post1->kb-python->mx==0.0.0) (0.12.1)\n",
            "Requirement already satisfied: fonttools>=4.22.0 in /usr/local/lib/python3.10/dist-packages (from matplotlib>=3.6->scanpy>=1.4.4.post1->kb-python->mx==0.0.0) (4.53.0)\n",
            "Requirement already satisfied: kiwisolver>=1.0.1 in /usr/local/lib/python3.10/dist-packages (from matplotlib>=3.6->scanpy>=1.4.4.post1->kb-python->mx==0.0.0) (1.4.5)\n",
            "Requirement already satisfied: pillow>=6.2.0 in /usr/local/lib/python3.10/dist-packages (from matplotlib>=3.6->scanpy>=1.4.4.post1->kb-python->mx==0.0.0) (9.4.0)\n",
            "Requirement already satisfied: pyparsing>=2.3.1 in /usr/local/lib/python3.10/dist-packages (from matplotlib>=3.6->scanpy>=1.4.4.post1->kb-python->mx==0.0.0) (3.1.2)\n",
            "Requirement already satisfied: jupyter-client>=6.1.12 in /usr/local/lib/python3.10/dist-packages (from nbclient>=0.5.0->nbconvert>=5.6.0->kb-python->mx==0.0.0) (6.1.12)\n",
            "Requirement already satisfied: llvmlite<0.42,>=0.41.0dev0 in /usr/local/lib/python3.10/dist-packages (from numba->loompy>=3.0.6->kb-python->mx==0.0.0) (0.41.1)\n",
            "Requirement already satisfied: soupsieve>1.2 in /usr/local/lib/python3.10/dist-packages (from beautifulsoup4->nbconvert>=5.6.0->kb-python->mx==0.0.0) (2.5)\n",
            "Requirement already satisfied: webencodings in /usr/local/lib/python3.10/dist-packages (from bleach->nbconvert>=5.6.0->kb-python->mx==0.0.0) (0.5.1)\n",
            "Collecting stdlib_list (from session-info->scanpy>=1.4.4.post1->kb-python->mx==0.0.0)\n",
            "  Downloading stdlib_list-0.10.0-py3-none-any.whl (79 kB)\n",
            "\u001b[2K     \u001b[90m━━━━━━━━━━━━━━━━━━━━━━━━━━━━━━━━━━━━━━━━\u001b[0m \u001b[32m79.8/79.8 kB\u001b[0m \u001b[31m8.9 MB/s\u001b[0m eta \u001b[36m0:00:00\u001b[0m\n",
            "\u001b[?25hRequirement already satisfied: pyzmq>=13 in /usr/local/lib/python3.10/dist-packages (from jupyter-client>=6.1.12->nbclient>=0.5.0->nbconvert>=5.6.0->kb-python->mx==0.0.0) (24.0.1)\n",
            "Requirement already satisfied: tornado>=4.1 in /usr/local/lib/python3.10/dist-packages (from jupyter-client>=6.1.12->nbclient>=0.5.0->nbconvert>=5.6.0->kb-python->mx==0.0.0) (6.3.3)\n",
            "Building wheels for collected packages: mx, loompy, session-info\n",
            "  Building wheel for mx (setup.py) ... \u001b[?25l\u001b[?25hdone\n",
            "  Created wheel for mx: filename=mx-0.0.0-py3-none-any.whl size=31128 sha256=499966b460dcab424f16108e8d1416060cc8b670c69a1fc90b741a7d7b428f0c\n",
            "  Stored in directory: /tmp/pip-ephem-wheel-cache-g4cs7_q2/wheels/92/c6/8b/5e0543d49c5ecb78e534370aeb24127f103d8f415dc153cf63\n",
            "  Building wheel for loompy (setup.py) ... \u001b[?25l\u001b[?25hdone\n",
            "  Created wheel for loompy: filename=loompy-3.0.7-py3-none-any.whl size=52019 sha256=392435be07282927ba6bdb9827090f18cff70f6a6a4f8ada89cfd2c1e683fb74\n",
            "  Stored in directory: /root/.cache/pip/wheels/2c/22/1f/792a4621bb631e538bf1c21feae9bbaa6b19fd6d6ab382d1fd\n",
            "  Building wheel for session-info (setup.py) ... \u001b[?25l\u001b[?25hdone\n",
            "  Created wheel for session-info: filename=session_info-1.0.0-py3-none-any.whl size=8026 sha256=67ec1ca1ea970eb351dd1c59de1c903413cbd1fdaf85238de314f0180724ff3a\n",
            "  Stored in directory: /root/.cache/pip/wheels/6a/aa/b9/eb5d4031476ec10802795b97ccf937b9bd998d68a9b268765a\n",
            "Successfully built mx loompy session-info\n",
            "Installing collected packages: array-api-compat, stdlib_list, shortuuid, pysam, numpy-groupies, legacy-api-wrap, session-info, pandas, ngs-tools, loompy, pynndescent, anndata, umap-learn, scanpy, kb-python, mx\n",
            "  Attempting uninstall: pandas\n",
            "    Found existing installation: pandas 2.0.3\n",
            "    Uninstalling pandas-2.0.3:\n",
            "      Successfully uninstalled pandas-2.0.3\n",
            "\u001b[31mERROR: pip's dependency resolver does not currently take into account all the packages that are installed. This behaviour is the source of the following dependency conflicts.\n",
            "cudf-cu12 24.4.1 requires pandas<2.2.2dev0,>=2.0, but you have pandas 1.5.3 which is incompatible.\n",
            "google-colab 1.0.0 requires pandas==2.0.3, but you have pandas 1.5.3 which is incompatible.\u001b[0m\u001b[31m\n",
            "\u001b[0mSuccessfully installed anndata-0.10.8 array-api-compat-1.7.1 kb-python-0.28.2 legacy-api-wrap-1.4 loompy-3.0.7 mx-0.0.0 ngs-tools-1.8.5 numpy-groupies-0.11.1 pandas-1.5.3 pynndescent-0.5.13 pysam-0.22.1 scanpy-1.10.2 session-info-1.0.0 shortuuid-1.0.13 stdlib_list-0.10.0 umap-learn-0.5.6\n",
            "Cloning into 'cellatlas'...\n",
            "remote: Enumerating objects: 683, done.\u001b[K\n",
            "remote: Counting objects: 100% (171/171), done.\u001b[K\n",
            "remote: Compressing objects: 100% (111/111), done.\u001b[K\n",
            "remote: Total 683 (delta 97), reused 124 (delta 60), pack-reused 512\u001b[K\n",
            "Receiving objects: 100% (683/683), 872.57 MiB | 35.62 MiB/s, done.\n",
            "Resolving deltas: 100% (398/398), done.\n",
            "Updating files: 100% (136/136), done.\n"
          ]
        }
      ]
    },
    {
      "cell_type": "code",
      "source": [
        "!head observation.json"
      ],
      "metadata": {
        "id": "C6H92zWVJyCf",
        "outputId": "bb7912e0-e02c-4612-c87e-6f4685117ccf",
        "colab": {
          "base_uri": "https://localhost:8080/"
        }
      },
      "execution_count": 5,
      "outputs": [
        {
          "output_type": "stream",
          "name": "stdout",
          "text": [
            "{\n",
            "    \"observation_id\": \"CRX102288\",\n",
            "    \"doi\": \"https://doi.org/10.1038/s41421-020-0168-9\",\n",
            "    \"species\": \"homo_sapiens\",\n",
            "    \"organ\": \"blood\",\n",
            "    \"name\": \"covid,infected,early,recovery,stage\",\n",
            "    \"description\": \"PBMCs\",\n",
            "    \"technology\": \"10xv2\",\n",
            "    \"links\": [\n",
            "        {\n"
          ]
        }
      ]
    },
    {
      "cell_type": "markdown",
      "source": [
        "# Matrix-level metrics\n",
        "\n",
        "By way of example, here are whole matrix level measures that can be used to QC.\n",
        "\n",
        "- **ncells**: The number of barcodes quantified in the matrix\n",
        "  - Too low and there was an issue with barcode diversity or error-correction to an incorrect onlist\n",
        "- **ngenes**: The number of genes quantified in the matrix\n",
        "  - This will often be equal to the number of genes used to construct the alignment index\n",
        "- **nvals**: The number of entries in the matrix that are non-zero\n",
        "  - Often a measure for the diversity of barcode-umi pairs in the library\n",
        "- **density**: `nvals/(ncells*ngenes)`\n",
        "  - Can be thought of as an efficiency measure of umi capture\n",
        "- **avg_per_cell**: The average number of counts per cell\n",
        "- **avg_per_gene**: The average number of counts per gene\n",
        "- **min_cell**: The number of counts for the cell with the fewest counts\n",
        "- **max_cell**: The number of counts for the cell with the most counts\n",
        "- **total_count**: The sum of the counts in the count matrix\n",
        "- **overdispersion**: `sigma^2 = mu + alpha*mu`, computed on the genes"
      ],
      "metadata": {
        "id": "ACR-kxZQHhOZ"
      }
    },
    {
      "cell_type": "markdown",
      "source": [
        "## Command-line\n",
        "\n",
        "Then navigate to where you have your matrix files (note the matrix orientation here is `cells x genes`) and run the `mx inspect` command:"
      ],
      "metadata": {
        "id": "wSOyQKMQHmkT"
      }
    },
    {
      "cell_type": "code",
      "source": [
        "!mx inspect -o inspect.json -gi genes.txt -a all -bi barcodes.txt matrix.mtx"
      ],
      "metadata": {
        "id": "uqIh-VouHkqS"
      },
      "execution_count": 6,
      "outputs": []
    },
    {
      "cell_type": "markdown",
      "source": [
        "Your json file will look like something like this"
      ],
      "metadata": {
        "id": "lCGMPBAbKHpK"
      }
    },
    {
      "cell_type": "code",
      "source": [
        "!cat inspect.json"
      ],
      "metadata": {
        "id": "s2t9KgYpKA1C",
        "outputId": "ef79e4cd-4e67-457d-a3ff-d56637af6b21",
        "colab": {
          "base_uri": "https://localhost:8080/"
        }
      },
      "execution_count": 7,
      "outputs": [
        {
          "output_type": "stream",
          "name": "stdout",
          "text": [
            "{\"ncells\": 12531, \"ngenes\": 60623, \"nvals\": 19302558, \"density\": 0.025409242143634356, \"avg_counts_per_cell\": 4931.9027212512965, \"avg_counts_per_gene\": 1019.4426702736586, \"avg_nnzero_per_cell\": 1540.3844864735456, \"avg_nnzero_per_gene\": 318.40321330188215, \"min_cell\": 205, \"max_cell\": 50011, \"total_counts\": 61801673, \"overdispersion\": 2.022247748007974, \"s_index\": 5097}"
          ]
        }
      ]
    },
    {
      "cell_type": "markdown",
      "source": [
        "## Python\n",
        "\n",
        "If you have your count matrix loaded as an anndata you can generate a these metrics from within a python environment"
      ],
      "metadata": {
        "id": "isL0iX9QKKR0"
      }
    },
    {
      "cell_type": "code",
      "source": [
        "from scipy.io import mmread\n",
        "from mx.mx_inspect import mx_inspect_rows, mx_inspect_cols, mx_inspect\n",
        "\n",
        "mtx = mmread(\"matrix.mtx\")\n",
        "\n",
        "metrics = mx_inspect(mtx)\n",
        "print(metrics)"
      ],
      "metadata": {
        "id": "6NOqnKWpKB2j",
        "outputId": "588bcdad-9c51-453d-e5b3-a85496d16832",
        "colab": {
          "base_uri": "https://localhost:8080/"
        }
      },
      "execution_count": 11,
      "outputs": [
        {
          "output_type": "stream",
          "name": "stdout",
          "text": [
            "{'ncells': 12531, 'ngenes': 60623, 'nvals': 19302558, 'density': 0.025409242143634356, 'avg_counts_per_cell': 4931.9027212512965, 'avg_counts_per_gene': 1019.4426702736586, 'avg_nnzero_per_cell': 1540.3844864735456, 'avg_nnzero_per_gene': 318.40321330188215, 'min_cell': 205, 'max_cell': 50011, 'total_counts': 61801673, 'overdispersion': 2.022247748007974, 's_index': 5097}\n"
          ]
        }
      ]
    },
    {
      "cell_type": "markdown",
      "source": [
        "# Cell and gene-level metrics\n",
        "\n",
        "We can also compute cell-wise and gene-wise metrics that are useful in more fine-grained QC metrics. For all cells or all genes we compute\n",
        "\n",
        "- **counts_min**: the minimum number of counts across\n",
        "- **counts_max**: maximum number of counts\n",
        "- **counts_sum**: sum of counts\n",
        "- **counts_mean**: `counts_sum / size of axis`\n",
        "- **counts_nnzero**: number of non-zero entries <= size of axis\n",
        "- **counts_variance**: variance of counts across axis"
      ],
      "metadata": {
        "id": "RjVulYOlLXlI"
      }
    },
    {
      "cell_type": "markdown",
      "source": [
        "## Command line\n",
        "\n",
        "To generate these, run the `mx inspect` command with the `-a rows` for cell metrics or `-a cols` for gene metadata"
      ],
      "metadata": {
        "id": "weiY7eI8LZrr"
      }
    },
    {
      "cell_type": "code",
      "source": [
        "# cells\n",
        "!mx inspect -o inspect.cells.txt -gi genes.txt -a rows -bi barcodes.txt matrix.mtx\n",
        "!head inspect.cells.txt"
      ],
      "metadata": {
        "id": "qUqi7d9cKoqP",
        "outputId": "8d7760c8-5c39-4529-b5f9-96e13d325a4e",
        "colab": {
          "base_uri": "https://localhost:8080/"
        }
      },
      "execution_count": 12,
      "outputs": [
        {
          "output_type": "stream",
          "name": "stdout",
          "text": [
            "bcs\tcounts_min\tcounts_max\tcounts_sum\tcounts_mean\tcounts_nnzero\tcounts_variance\n",
            "AAACCTGAGACAAGCC\t0.0\t246.0\t9204.0\t0.15182356531349492\t2816\t5.200181711641697\n",
            "AAACCTGAGATCTGAA\t0.0\t135.0\t3216.0\t0.05304917275621464\t1164\t0.912547941547202\n",
            "AAACCTGAGCATCATC\t0.0\t100.0\t3071.0\t0.05065734127311417\t1321\t0.6264195322724093\n",
            "AAACCTGAGCTGTTCA\t0.0\t122.0\t4117.0\t0.06791151873051485\t1321\t1.4593373517870525\n",
            "AAACCTGAGGCTAGCA\t0.0\t144.0\t265.0\t0.004371278227735347\t77\t0.3552750871990772\n",
            "AAACCTGAGTGCGATG\t0.0\t108.0\t5013.0\t0.0826913877571219\t1344\t2.4952982873360536\n",
            "AAACCTGCACATCCGG\t0.0\t272.0\t9062.0\t0.14948121999901032\t2715\t5.29458128407319\n",
            "AAACCTGCACCAGGTC\t0.0\t40.0\t221.0\t0.003645481088035895\t64\t0.06661158881413896\n",
            "AAACCTGCACGGTAAG\t0.0\t30.0\t271.0\t0.004470250564967092\t141\t0.03783693585102838\n",
            "genes\tcounts_min\tcounts_max\tcounts_sum\tcounts_mean\tcounts_nnzero\tcounts_variance\n",
            "DDX11L1\t0.0\t1.0\t4.0\t0.00031920836325911736\t4\t0.0003191064692799428\n",
            "WASH7P\t0.0\t1.0\t78.0\t0.0062245630835527956\t78\t0.006185817897971667\n",
            "MIR6859-1\t0.0\t0.0\t0.0\t0.0\t0\t0.0\n",
            "MIR1302-2HG\t0.0\t0.0\t0.0\t0.0\t0\t0.0\n",
            "MIR1302-2\t0.0\t0.0\t0.0\t0.0\t0\t0.0\n",
            "FAM138A\t0.0\t0.0\t0.0\t0.0\t0\t0.0\n",
            "OR4G4P\t0.0\t0.0\t0.0\t0.0\t0\t0.0\n",
            "OR4G11P\t0.0\t0.0\t0.0\t0.0\t0\t0.0\n",
            "OR4F5\t0.0\t0.0\t0.0\t0.0\t0\t0.0\n"
          ]
        }
      ]
    },
    {
      "cell_type": "markdown",
      "source": [
        "and for genes"
      ],
      "metadata": {
        "id": "0fFl4tY0MQPr"
      }
    },
    {
      "cell_type": "code",
      "source": [
        "# genes\n",
        "!mx inspect -o inspect.genes.txt -gi genes.txt -a cols -bi barcodes.txt matrix.mtx\n",
        "!head inspect.genes.txt"
      ],
      "metadata": {
        "id": "HejfQrzIMOTh"
      },
      "execution_count": null,
      "outputs": []
    },
    {
      "cell_type": "markdown",
      "source": [
        "## Python\n",
        "\n",
        "If you have your count matrix loaded as an anndata you can generate a these metrics from within a python environment"
      ],
      "metadata": {
        "id": "JSHaEgd7LsDz"
      }
    },
    {
      "cell_type": "code",
      "source": [
        "from scipy.io import mmread\n",
        "import pandas as pd\n",
        "from mx.mx_inspect import mx_inspect_rows, mx_inspect_cols, mx_inspect\n",
        "\n",
        "mtx = mmread(\"matrix.mtx\")\n",
        "obs = pd.read_csv(\"barcodes.txt\", index_col=0, sep=\"\\t\", header=None)\n",
        "var = pd.read_csv(\"genes.txt\", index_col=0, sep=\"\\t\", header=None)\n",
        "\n",
        "cells_qc = mx_inspect_rows(mtx.copy(), obs.index.values).copy()\n",
        "genes_qc = mx_inspect_cols(mtx.copy(), var.index.values).copy()"
      ],
      "metadata": {
        "id": "_Ngpy8zjLo6T"
      },
      "execution_count": 13,
      "outputs": []
    },
    {
      "cell_type": "code",
      "source": [
        "cells_qc.head()"
      ],
      "metadata": {
        "id": "nofzaw4lMIOU",
        "outputId": "6ce97aa4-4490-4127-b4df-c7c964f2e46e",
        "colab": {
          "base_uri": "https://localhost:8080/",
          "height": 258
        }
      },
      "execution_count": 15,
      "outputs": [
        {
          "output_type": "execute_result",
          "data": {
            "text/plain": [
              "                  counts_min  counts_max  counts_sum  counts_mean  \\\n",
              "bcs                                                                 \n",
              "AAACCTGAGACAAGCC         0.0       246.0      9204.0     0.151824   \n",
              "AAACCTGAGATCTGAA         0.0       135.0      3216.0     0.053049   \n",
              "AAACCTGAGCATCATC         0.0       100.0      3071.0     0.050657   \n",
              "AAACCTGAGCTGTTCA         0.0       122.0      4117.0     0.067912   \n",
              "AAACCTGAGGCTAGCA         0.0       144.0       265.0     0.004371   \n",
              "\n",
              "                  counts_nnzero  counts_variance  \n",
              "bcs                                               \n",
              "AAACCTGAGACAAGCC           2816         5.200182  \n",
              "AAACCTGAGATCTGAA           1164         0.912548  \n",
              "AAACCTGAGCATCATC           1321         0.626420  \n",
              "AAACCTGAGCTGTTCA           1321         1.459337  \n",
              "AAACCTGAGGCTAGCA             77         0.355275  "
            ],
            "text/html": [
              "\n",
              "  <div id=\"df-f18776f4-61b9-4ed8-9255-32e69156ca0d\" class=\"colab-df-container\">\n",
              "    <div>\n",
              "<style scoped>\n",
              "    .dataframe tbody tr th:only-of-type {\n",
              "        vertical-align: middle;\n",
              "    }\n",
              "\n",
              "    .dataframe tbody tr th {\n",
              "        vertical-align: top;\n",
              "    }\n",
              "\n",
              "    .dataframe thead th {\n",
              "        text-align: right;\n",
              "    }\n",
              "</style>\n",
              "<table border=\"1\" class=\"dataframe\">\n",
              "  <thead>\n",
              "    <tr style=\"text-align: right;\">\n",
              "      <th></th>\n",
              "      <th>counts_min</th>\n",
              "      <th>counts_max</th>\n",
              "      <th>counts_sum</th>\n",
              "      <th>counts_mean</th>\n",
              "      <th>counts_nnzero</th>\n",
              "      <th>counts_variance</th>\n",
              "    </tr>\n",
              "    <tr>\n",
              "      <th>bcs</th>\n",
              "      <th></th>\n",
              "      <th></th>\n",
              "      <th></th>\n",
              "      <th></th>\n",
              "      <th></th>\n",
              "      <th></th>\n",
              "    </tr>\n",
              "  </thead>\n",
              "  <tbody>\n",
              "    <tr>\n",
              "      <th>AAACCTGAGACAAGCC</th>\n",
              "      <td>0.0</td>\n",
              "      <td>246.0</td>\n",
              "      <td>9204.0</td>\n",
              "      <td>0.151824</td>\n",
              "      <td>2816</td>\n",
              "      <td>5.200182</td>\n",
              "    </tr>\n",
              "    <tr>\n",
              "      <th>AAACCTGAGATCTGAA</th>\n",
              "      <td>0.0</td>\n",
              "      <td>135.0</td>\n",
              "      <td>3216.0</td>\n",
              "      <td>0.053049</td>\n",
              "      <td>1164</td>\n",
              "      <td>0.912548</td>\n",
              "    </tr>\n",
              "    <tr>\n",
              "      <th>AAACCTGAGCATCATC</th>\n",
              "      <td>0.0</td>\n",
              "      <td>100.0</td>\n",
              "      <td>3071.0</td>\n",
              "      <td>0.050657</td>\n",
              "      <td>1321</td>\n",
              "      <td>0.626420</td>\n",
              "    </tr>\n",
              "    <tr>\n",
              "      <th>AAACCTGAGCTGTTCA</th>\n",
              "      <td>0.0</td>\n",
              "      <td>122.0</td>\n",
              "      <td>4117.0</td>\n",
              "      <td>0.067912</td>\n",
              "      <td>1321</td>\n",
              "      <td>1.459337</td>\n",
              "    </tr>\n",
              "    <tr>\n",
              "      <th>AAACCTGAGGCTAGCA</th>\n",
              "      <td>0.0</td>\n",
              "      <td>144.0</td>\n",
              "      <td>265.0</td>\n",
              "      <td>0.004371</td>\n",
              "      <td>77</td>\n",
              "      <td>0.355275</td>\n",
              "    </tr>\n",
              "  </tbody>\n",
              "</table>\n",
              "</div>\n",
              "    <div class=\"colab-df-buttons\">\n",
              "\n",
              "  <div class=\"colab-df-container\">\n",
              "    <button class=\"colab-df-convert\" onclick=\"convertToInteractive('df-f18776f4-61b9-4ed8-9255-32e69156ca0d')\"\n",
              "            title=\"Convert this dataframe to an interactive table.\"\n",
              "            style=\"display:none;\">\n",
              "\n",
              "  <svg xmlns=\"http://www.w3.org/2000/svg\" height=\"24px\" viewBox=\"0 -960 960 960\">\n",
              "    <path d=\"M120-120v-720h720v720H120Zm60-500h600v-160H180v160Zm220 220h160v-160H400v160Zm0 220h160v-160H400v160ZM180-400h160v-160H180v160Zm440 0h160v-160H620v160ZM180-180h160v-160H180v160Zm440 0h160v-160H620v160Z\"/>\n",
              "  </svg>\n",
              "    </button>\n",
              "\n",
              "  <style>\n",
              "    .colab-df-container {\n",
              "      display:flex;\n",
              "      gap: 12px;\n",
              "    }\n",
              "\n",
              "    .colab-df-convert {\n",
              "      background-color: #E8F0FE;\n",
              "      border: none;\n",
              "      border-radius: 50%;\n",
              "      cursor: pointer;\n",
              "      display: none;\n",
              "      fill: #1967D2;\n",
              "      height: 32px;\n",
              "      padding: 0 0 0 0;\n",
              "      width: 32px;\n",
              "    }\n",
              "\n",
              "    .colab-df-convert:hover {\n",
              "      background-color: #E2EBFA;\n",
              "      box-shadow: 0px 1px 2px rgba(60, 64, 67, 0.3), 0px 1px 3px 1px rgba(60, 64, 67, 0.15);\n",
              "      fill: #174EA6;\n",
              "    }\n",
              "\n",
              "    .colab-df-buttons div {\n",
              "      margin-bottom: 4px;\n",
              "    }\n",
              "\n",
              "    [theme=dark] .colab-df-convert {\n",
              "      background-color: #3B4455;\n",
              "      fill: #D2E3FC;\n",
              "    }\n",
              "\n",
              "    [theme=dark] .colab-df-convert:hover {\n",
              "      background-color: #434B5C;\n",
              "      box-shadow: 0px 1px 3px 1px rgba(0, 0, 0, 0.15);\n",
              "      filter: drop-shadow(0px 1px 2px rgba(0, 0, 0, 0.3));\n",
              "      fill: #FFFFFF;\n",
              "    }\n",
              "  </style>\n",
              "\n",
              "    <script>\n",
              "      const buttonEl =\n",
              "        document.querySelector('#df-f18776f4-61b9-4ed8-9255-32e69156ca0d button.colab-df-convert');\n",
              "      buttonEl.style.display =\n",
              "        google.colab.kernel.accessAllowed ? 'block' : 'none';\n",
              "\n",
              "      async function convertToInteractive(key) {\n",
              "        const element = document.querySelector('#df-f18776f4-61b9-4ed8-9255-32e69156ca0d');\n",
              "        const dataTable =\n",
              "          await google.colab.kernel.invokeFunction('convertToInteractive',\n",
              "                                                    [key], {});\n",
              "        if (!dataTable) return;\n",
              "\n",
              "        const docLinkHtml = 'Like what you see? Visit the ' +\n",
              "          '<a target=\"_blank\" href=https://colab.research.google.com/notebooks/data_table.ipynb>data table notebook</a>'\n",
              "          + ' to learn more about interactive tables.';\n",
              "        element.innerHTML = '';\n",
              "        dataTable['output_type'] = 'display_data';\n",
              "        await google.colab.output.renderOutput(dataTable, element);\n",
              "        const docLink = document.createElement('div');\n",
              "        docLink.innerHTML = docLinkHtml;\n",
              "        element.appendChild(docLink);\n",
              "      }\n",
              "    </script>\n",
              "  </div>\n",
              "\n",
              "\n",
              "<div id=\"df-5a508286-8d2d-4b60-9bc7-647d75412cf0\">\n",
              "  <button class=\"colab-df-quickchart\" onclick=\"quickchart('df-5a508286-8d2d-4b60-9bc7-647d75412cf0')\"\n",
              "            title=\"Suggest charts\"\n",
              "            style=\"display:none;\">\n",
              "\n",
              "<svg xmlns=\"http://www.w3.org/2000/svg\" height=\"24px\"viewBox=\"0 0 24 24\"\n",
              "     width=\"24px\">\n",
              "    <g>\n",
              "        <path d=\"M19 3H5c-1.1 0-2 .9-2 2v14c0 1.1.9 2 2 2h14c1.1 0 2-.9 2-2V5c0-1.1-.9-2-2-2zM9 17H7v-7h2v7zm4 0h-2V7h2v10zm4 0h-2v-4h2v4z\"/>\n",
              "    </g>\n",
              "</svg>\n",
              "  </button>\n",
              "\n",
              "<style>\n",
              "  .colab-df-quickchart {\n",
              "      --bg-color: #E8F0FE;\n",
              "      --fill-color: #1967D2;\n",
              "      --hover-bg-color: #E2EBFA;\n",
              "      --hover-fill-color: #174EA6;\n",
              "      --disabled-fill-color: #AAA;\n",
              "      --disabled-bg-color: #DDD;\n",
              "  }\n",
              "\n",
              "  [theme=dark] .colab-df-quickchart {\n",
              "      --bg-color: #3B4455;\n",
              "      --fill-color: #D2E3FC;\n",
              "      --hover-bg-color: #434B5C;\n",
              "      --hover-fill-color: #FFFFFF;\n",
              "      --disabled-bg-color: #3B4455;\n",
              "      --disabled-fill-color: #666;\n",
              "  }\n",
              "\n",
              "  .colab-df-quickchart {\n",
              "    background-color: var(--bg-color);\n",
              "    border: none;\n",
              "    border-radius: 50%;\n",
              "    cursor: pointer;\n",
              "    display: none;\n",
              "    fill: var(--fill-color);\n",
              "    height: 32px;\n",
              "    padding: 0;\n",
              "    width: 32px;\n",
              "  }\n",
              "\n",
              "  .colab-df-quickchart:hover {\n",
              "    background-color: var(--hover-bg-color);\n",
              "    box-shadow: 0 1px 2px rgba(60, 64, 67, 0.3), 0 1px 3px 1px rgba(60, 64, 67, 0.15);\n",
              "    fill: var(--button-hover-fill-color);\n",
              "  }\n",
              "\n",
              "  .colab-df-quickchart-complete:disabled,\n",
              "  .colab-df-quickchart-complete:disabled:hover {\n",
              "    background-color: var(--disabled-bg-color);\n",
              "    fill: var(--disabled-fill-color);\n",
              "    box-shadow: none;\n",
              "  }\n",
              "\n",
              "  .colab-df-spinner {\n",
              "    border: 2px solid var(--fill-color);\n",
              "    border-color: transparent;\n",
              "    border-bottom-color: var(--fill-color);\n",
              "    animation:\n",
              "      spin 1s steps(1) infinite;\n",
              "  }\n",
              "\n",
              "  @keyframes spin {\n",
              "    0% {\n",
              "      border-color: transparent;\n",
              "      border-bottom-color: var(--fill-color);\n",
              "      border-left-color: var(--fill-color);\n",
              "    }\n",
              "    20% {\n",
              "      border-color: transparent;\n",
              "      border-left-color: var(--fill-color);\n",
              "      border-top-color: var(--fill-color);\n",
              "    }\n",
              "    30% {\n",
              "      border-color: transparent;\n",
              "      border-left-color: var(--fill-color);\n",
              "      border-top-color: var(--fill-color);\n",
              "      border-right-color: var(--fill-color);\n",
              "    }\n",
              "    40% {\n",
              "      border-color: transparent;\n",
              "      border-right-color: var(--fill-color);\n",
              "      border-top-color: var(--fill-color);\n",
              "    }\n",
              "    60% {\n",
              "      border-color: transparent;\n",
              "      border-right-color: var(--fill-color);\n",
              "    }\n",
              "    80% {\n",
              "      border-color: transparent;\n",
              "      border-right-color: var(--fill-color);\n",
              "      border-bottom-color: var(--fill-color);\n",
              "    }\n",
              "    90% {\n",
              "      border-color: transparent;\n",
              "      border-bottom-color: var(--fill-color);\n",
              "    }\n",
              "  }\n",
              "</style>\n",
              "\n",
              "  <script>\n",
              "    async function quickchart(key) {\n",
              "      const quickchartButtonEl =\n",
              "        document.querySelector('#' + key + ' button');\n",
              "      quickchartButtonEl.disabled = true;  // To prevent multiple clicks.\n",
              "      quickchartButtonEl.classList.add('colab-df-spinner');\n",
              "      try {\n",
              "        const charts = await google.colab.kernel.invokeFunction(\n",
              "            'suggestCharts', [key], {});\n",
              "      } catch (error) {\n",
              "        console.error('Error during call to suggestCharts:', error);\n",
              "      }\n",
              "      quickchartButtonEl.classList.remove('colab-df-spinner');\n",
              "      quickchartButtonEl.classList.add('colab-df-quickchart-complete');\n",
              "    }\n",
              "    (() => {\n",
              "      let quickchartButtonEl =\n",
              "        document.querySelector('#df-5a508286-8d2d-4b60-9bc7-647d75412cf0 button');\n",
              "      quickchartButtonEl.style.display =\n",
              "        google.colab.kernel.accessAllowed ? 'block' : 'none';\n",
              "    })();\n",
              "  </script>\n",
              "</div>\n",
              "\n",
              "    </div>\n",
              "  </div>\n"
            ],
            "application/vnd.google.colaboratory.intrinsic+json": {
              "type": "dataframe",
              "variable_name": "cells_qc",
              "summary": "{\n  \"name\": \"cells_qc\",\n  \"rows\": 12531,\n  \"fields\": [\n    {\n      \"column\": \"bcs\",\n      \"properties\": {\n        \"dtype\": \"string\",\n        \"num_unique_values\": 12531,\n        \"samples\": [\n          \"GCACTCTAGCGTGAAC\",\n          \"CATCGAAAGAGCCCAA\",\n          \"CTGATAGAGAAACGAG\"\n        ],\n        \"semantic_type\": \"\",\n        \"description\": \"\"\n      }\n    },\n    {\n      \"column\": \"counts_min\",\n      \"properties\": {\n        \"dtype\": \"number\",\n        \"std\": 0.0,\n        \"min\": 0.0,\n        \"max\": 0.0,\n        \"num_unique_values\": 1,\n        \"samples\": [\n          0.0\n        ],\n        \"semantic_type\": \"\",\n        \"description\": \"\"\n      }\n    },\n    {\n      \"column\": \"counts_max\",\n      \"properties\": {\n        \"dtype\": \"number\",\n        \"std\": 243.22055349920856,\n        \"min\": 4.0,\n        \"max\": 7412.0,\n        \"num_unique_values\": 922,\n        \"samples\": [\n          153.0\n        ],\n        \"semantic_type\": \"\",\n        \"description\": \"\"\n      }\n    },\n    {\n      \"column\": \"counts_sum\",\n      \"properties\": {\n        \"dtype\": \"number\",\n        \"std\": 3996.7233902652647,\n        \"min\": 205.0,\n        \"max\": 50011.0,\n        \"num_unique_values\": 7345,\n        \"samples\": [\n          7235.0\n        ],\n        \"semantic_type\": \"\",\n        \"description\": \"\"\n      }\n    },\n    {\n      \"column\": \"counts_mean\",\n      \"properties\": {\n        \"dtype\": \"number\",\n        \"std\": 0.0659275092005574,\n        \"min\": 0.003381554855417911,\n        \"max\": 0.8249509262161614,\n        \"num_unique_values\": 12193,\n        \"samples\": [\n          0.16800554245088983\n        ],\n        \"semantic_type\": \"\",\n        \"description\": \"\"\n      }\n    },\n    {\n      \"column\": \"counts_nnzero\",\n      \"properties\": {\n        \"dtype\": \"number\",\n        \"std\": 974,\n        \"min\": 13,\n        \"max\": 6771,\n        \"num_unique_values\": 3485,\n        \"samples\": [\n          2023\n        ],\n        \"semantic_type\": \"\",\n        \"description\": \"\"\n      }\n    },\n    {\n      \"column\": \"counts_variance\",\n      \"properties\": {\n        \"dtype\": \"number\",\n        \"std\": 15.698075108442419,\n        \"min\": 0.0046071623253474666,\n        \"max\": 1024.1605128335777,\n        \"num_unique_values\": 12531,\n        \"samples\": [\n          4.167854784717974\n        ],\n        \"semantic_type\": \"\",\n        \"description\": \"\"\n      }\n    }\n  ]\n}"
            }
          },
          "metadata": {},
          "execution_count": 15
        }
      ]
    },
    {
      "cell_type": "code",
      "source": [
        "genes_qc.head()"
      ],
      "metadata": {
        "id": "i__J3f1RNcBb",
        "outputId": "bd9b3851-25c0-407f-d0fb-965f2168982c",
        "colab": {
          "base_uri": "https://localhost:8080/",
          "height": 310
        }
      },
      "execution_count": 16,
      "outputs": [
        {
          "output_type": "execute_result",
          "data": {
            "text/plain": [
              "             counts_min  counts_max  counts_sum  counts_mean  counts_nnzero  \\\n",
              "genes                                                                         \n",
              "DDX11L1             0.0         1.0         4.0     0.000319              4   \n",
              "WASH7P              0.0         1.0        78.0     0.006225             78   \n",
              "MIR6859-1           0.0         0.0         0.0     0.000000              0   \n",
              "MIR1302-2HG         0.0         0.0         0.0     0.000000              0   \n",
              "MIR1302-2           0.0         0.0         0.0     0.000000              0   \n",
              "\n",
              "             counts_variance  \n",
              "genes                         \n",
              "DDX11L1             0.000319  \n",
              "WASH7P              0.006186  \n",
              "MIR6859-1           0.000000  \n",
              "MIR1302-2HG         0.000000  \n",
              "MIR1302-2           0.000000  "
            ],
            "text/html": [
              "\n",
              "  <div id=\"df-2bc1b8d5-45ab-419b-be2a-c65d3d96ccb4\" class=\"colab-df-container\">\n",
              "    <div>\n",
              "<style scoped>\n",
              "    .dataframe tbody tr th:only-of-type {\n",
              "        vertical-align: middle;\n",
              "    }\n",
              "\n",
              "    .dataframe tbody tr th {\n",
              "        vertical-align: top;\n",
              "    }\n",
              "\n",
              "    .dataframe thead th {\n",
              "        text-align: right;\n",
              "    }\n",
              "</style>\n",
              "<table border=\"1\" class=\"dataframe\">\n",
              "  <thead>\n",
              "    <tr style=\"text-align: right;\">\n",
              "      <th></th>\n",
              "      <th>counts_min</th>\n",
              "      <th>counts_max</th>\n",
              "      <th>counts_sum</th>\n",
              "      <th>counts_mean</th>\n",
              "      <th>counts_nnzero</th>\n",
              "      <th>counts_variance</th>\n",
              "    </tr>\n",
              "    <tr>\n",
              "      <th>genes</th>\n",
              "      <th></th>\n",
              "      <th></th>\n",
              "      <th></th>\n",
              "      <th></th>\n",
              "      <th></th>\n",
              "      <th></th>\n",
              "    </tr>\n",
              "  </thead>\n",
              "  <tbody>\n",
              "    <tr>\n",
              "      <th>DDX11L1</th>\n",
              "      <td>0.0</td>\n",
              "      <td>1.0</td>\n",
              "      <td>4.0</td>\n",
              "      <td>0.000319</td>\n",
              "      <td>4</td>\n",
              "      <td>0.000319</td>\n",
              "    </tr>\n",
              "    <tr>\n",
              "      <th>WASH7P</th>\n",
              "      <td>0.0</td>\n",
              "      <td>1.0</td>\n",
              "      <td>78.0</td>\n",
              "      <td>0.006225</td>\n",
              "      <td>78</td>\n",
              "      <td>0.006186</td>\n",
              "    </tr>\n",
              "    <tr>\n",
              "      <th>MIR6859-1</th>\n",
              "      <td>0.0</td>\n",
              "      <td>0.0</td>\n",
              "      <td>0.0</td>\n",
              "      <td>0.000000</td>\n",
              "      <td>0</td>\n",
              "      <td>0.000000</td>\n",
              "    </tr>\n",
              "    <tr>\n",
              "      <th>MIR1302-2HG</th>\n",
              "      <td>0.0</td>\n",
              "      <td>0.0</td>\n",
              "      <td>0.0</td>\n",
              "      <td>0.000000</td>\n",
              "      <td>0</td>\n",
              "      <td>0.000000</td>\n",
              "    </tr>\n",
              "    <tr>\n",
              "      <th>MIR1302-2</th>\n",
              "      <td>0.0</td>\n",
              "      <td>0.0</td>\n",
              "      <td>0.0</td>\n",
              "      <td>0.000000</td>\n",
              "      <td>0</td>\n",
              "      <td>0.000000</td>\n",
              "    </tr>\n",
              "  </tbody>\n",
              "</table>\n",
              "</div>\n",
              "    <div class=\"colab-df-buttons\">\n",
              "\n",
              "  <div class=\"colab-df-container\">\n",
              "    <button class=\"colab-df-convert\" onclick=\"convertToInteractive('df-2bc1b8d5-45ab-419b-be2a-c65d3d96ccb4')\"\n",
              "            title=\"Convert this dataframe to an interactive table.\"\n",
              "            style=\"display:none;\">\n",
              "\n",
              "  <svg xmlns=\"http://www.w3.org/2000/svg\" height=\"24px\" viewBox=\"0 -960 960 960\">\n",
              "    <path d=\"M120-120v-720h720v720H120Zm60-500h600v-160H180v160Zm220 220h160v-160H400v160Zm0 220h160v-160H400v160ZM180-400h160v-160H180v160Zm440 0h160v-160H620v160ZM180-180h160v-160H180v160Zm440 0h160v-160H620v160Z\"/>\n",
              "  </svg>\n",
              "    </button>\n",
              "\n",
              "  <style>\n",
              "    .colab-df-container {\n",
              "      display:flex;\n",
              "      gap: 12px;\n",
              "    }\n",
              "\n",
              "    .colab-df-convert {\n",
              "      background-color: #E8F0FE;\n",
              "      border: none;\n",
              "      border-radius: 50%;\n",
              "      cursor: pointer;\n",
              "      display: none;\n",
              "      fill: #1967D2;\n",
              "      height: 32px;\n",
              "      padding: 0 0 0 0;\n",
              "      width: 32px;\n",
              "    }\n",
              "\n",
              "    .colab-df-convert:hover {\n",
              "      background-color: #E2EBFA;\n",
              "      box-shadow: 0px 1px 2px rgba(60, 64, 67, 0.3), 0px 1px 3px 1px rgba(60, 64, 67, 0.15);\n",
              "      fill: #174EA6;\n",
              "    }\n",
              "\n",
              "    .colab-df-buttons div {\n",
              "      margin-bottom: 4px;\n",
              "    }\n",
              "\n",
              "    [theme=dark] .colab-df-convert {\n",
              "      background-color: #3B4455;\n",
              "      fill: #D2E3FC;\n",
              "    }\n",
              "\n",
              "    [theme=dark] .colab-df-convert:hover {\n",
              "      background-color: #434B5C;\n",
              "      box-shadow: 0px 1px 3px 1px rgba(0, 0, 0, 0.15);\n",
              "      filter: drop-shadow(0px 1px 2px rgba(0, 0, 0, 0.3));\n",
              "      fill: #FFFFFF;\n",
              "    }\n",
              "  </style>\n",
              "\n",
              "    <script>\n",
              "      const buttonEl =\n",
              "        document.querySelector('#df-2bc1b8d5-45ab-419b-be2a-c65d3d96ccb4 button.colab-df-convert');\n",
              "      buttonEl.style.display =\n",
              "        google.colab.kernel.accessAllowed ? 'block' : 'none';\n",
              "\n",
              "      async function convertToInteractive(key) {\n",
              "        const element = document.querySelector('#df-2bc1b8d5-45ab-419b-be2a-c65d3d96ccb4');\n",
              "        const dataTable =\n",
              "          await google.colab.kernel.invokeFunction('convertToInteractive',\n",
              "                                                    [key], {});\n",
              "        if (!dataTable) return;\n",
              "\n",
              "        const docLinkHtml = 'Like what you see? Visit the ' +\n",
              "          '<a target=\"_blank\" href=https://colab.research.google.com/notebooks/data_table.ipynb>data table notebook</a>'\n",
              "          + ' to learn more about interactive tables.';\n",
              "        element.innerHTML = '';\n",
              "        dataTable['output_type'] = 'display_data';\n",
              "        await google.colab.output.renderOutput(dataTable, element);\n",
              "        const docLink = document.createElement('div');\n",
              "        docLink.innerHTML = docLinkHtml;\n",
              "        element.appendChild(docLink);\n",
              "      }\n",
              "    </script>\n",
              "  </div>\n",
              "\n",
              "\n",
              "<div id=\"df-a416e23e-7037-4b1e-bb9c-978dff3a80a5\">\n",
              "  <button class=\"colab-df-quickchart\" onclick=\"quickchart('df-a416e23e-7037-4b1e-bb9c-978dff3a80a5')\"\n",
              "            title=\"Suggest charts\"\n",
              "            style=\"display:none;\">\n",
              "\n",
              "<svg xmlns=\"http://www.w3.org/2000/svg\" height=\"24px\"viewBox=\"0 0 24 24\"\n",
              "     width=\"24px\">\n",
              "    <g>\n",
              "        <path d=\"M19 3H5c-1.1 0-2 .9-2 2v14c0 1.1.9 2 2 2h14c1.1 0 2-.9 2-2V5c0-1.1-.9-2-2-2zM9 17H7v-7h2v7zm4 0h-2V7h2v10zm4 0h-2v-4h2v4z\"/>\n",
              "    </g>\n",
              "</svg>\n",
              "  </button>\n",
              "\n",
              "<style>\n",
              "  .colab-df-quickchart {\n",
              "      --bg-color: #E8F0FE;\n",
              "      --fill-color: #1967D2;\n",
              "      --hover-bg-color: #E2EBFA;\n",
              "      --hover-fill-color: #174EA6;\n",
              "      --disabled-fill-color: #AAA;\n",
              "      --disabled-bg-color: #DDD;\n",
              "  }\n",
              "\n",
              "  [theme=dark] .colab-df-quickchart {\n",
              "      --bg-color: #3B4455;\n",
              "      --fill-color: #D2E3FC;\n",
              "      --hover-bg-color: #434B5C;\n",
              "      --hover-fill-color: #FFFFFF;\n",
              "      --disabled-bg-color: #3B4455;\n",
              "      --disabled-fill-color: #666;\n",
              "  }\n",
              "\n",
              "  .colab-df-quickchart {\n",
              "    background-color: var(--bg-color);\n",
              "    border: none;\n",
              "    border-radius: 50%;\n",
              "    cursor: pointer;\n",
              "    display: none;\n",
              "    fill: var(--fill-color);\n",
              "    height: 32px;\n",
              "    padding: 0;\n",
              "    width: 32px;\n",
              "  }\n",
              "\n",
              "  .colab-df-quickchart:hover {\n",
              "    background-color: var(--hover-bg-color);\n",
              "    box-shadow: 0 1px 2px rgba(60, 64, 67, 0.3), 0 1px 3px 1px rgba(60, 64, 67, 0.15);\n",
              "    fill: var(--button-hover-fill-color);\n",
              "  }\n",
              "\n",
              "  .colab-df-quickchart-complete:disabled,\n",
              "  .colab-df-quickchart-complete:disabled:hover {\n",
              "    background-color: var(--disabled-bg-color);\n",
              "    fill: var(--disabled-fill-color);\n",
              "    box-shadow: none;\n",
              "  }\n",
              "\n",
              "  .colab-df-spinner {\n",
              "    border: 2px solid var(--fill-color);\n",
              "    border-color: transparent;\n",
              "    border-bottom-color: var(--fill-color);\n",
              "    animation:\n",
              "      spin 1s steps(1) infinite;\n",
              "  }\n",
              "\n",
              "  @keyframes spin {\n",
              "    0% {\n",
              "      border-color: transparent;\n",
              "      border-bottom-color: var(--fill-color);\n",
              "      border-left-color: var(--fill-color);\n",
              "    }\n",
              "    20% {\n",
              "      border-color: transparent;\n",
              "      border-left-color: var(--fill-color);\n",
              "      border-top-color: var(--fill-color);\n",
              "    }\n",
              "    30% {\n",
              "      border-color: transparent;\n",
              "      border-left-color: var(--fill-color);\n",
              "      border-top-color: var(--fill-color);\n",
              "      border-right-color: var(--fill-color);\n",
              "    }\n",
              "    40% {\n",
              "      border-color: transparent;\n",
              "      border-right-color: var(--fill-color);\n",
              "      border-top-color: var(--fill-color);\n",
              "    }\n",
              "    60% {\n",
              "      border-color: transparent;\n",
              "      border-right-color: var(--fill-color);\n",
              "    }\n",
              "    80% {\n",
              "      border-color: transparent;\n",
              "      border-right-color: var(--fill-color);\n",
              "      border-bottom-color: var(--fill-color);\n",
              "    }\n",
              "    90% {\n",
              "      border-color: transparent;\n",
              "      border-bottom-color: var(--fill-color);\n",
              "    }\n",
              "  }\n",
              "</style>\n",
              "\n",
              "  <script>\n",
              "    async function quickchart(key) {\n",
              "      const quickchartButtonEl =\n",
              "        document.querySelector('#' + key + ' button');\n",
              "      quickchartButtonEl.disabled = true;  // To prevent multiple clicks.\n",
              "      quickchartButtonEl.classList.add('colab-df-spinner');\n",
              "      try {\n",
              "        const charts = await google.colab.kernel.invokeFunction(\n",
              "            'suggestCharts', [key], {});\n",
              "      } catch (error) {\n",
              "        console.error('Error during call to suggestCharts:', error);\n",
              "      }\n",
              "      quickchartButtonEl.classList.remove('colab-df-spinner');\n",
              "      quickchartButtonEl.classList.add('colab-df-quickchart-complete');\n",
              "    }\n",
              "    (() => {\n",
              "      let quickchartButtonEl =\n",
              "        document.querySelector('#df-a416e23e-7037-4b1e-bb9c-978dff3a80a5 button');\n",
              "      quickchartButtonEl.style.display =\n",
              "        google.colab.kernel.accessAllowed ? 'block' : 'none';\n",
              "    })();\n",
              "  </script>\n",
              "</div>\n",
              "\n",
              "    </div>\n",
              "  </div>\n"
            ],
            "application/vnd.google.colaboratory.intrinsic+json": {
              "type": "dataframe",
              "variable_name": "genes_qc",
              "summary": "{\n  \"name\": \"genes_qc\",\n  \"rows\": 60623,\n  \"fields\": [\n    {\n      \"column\": \"genes\",\n      \"properties\": {\n        \"dtype\": \"string\",\n        \"num_unique_values\": 59412,\n        \"samples\": [\n          \"RNF115\",\n          \"AC145207.6\",\n          \"LINC00648\"\n        ],\n        \"semantic_type\": \"\",\n        \"description\": \"\"\n      }\n    },\n    {\n      \"column\": \"counts_min\",\n      \"properties\": {\n        \"dtype\": \"number\",\n        \"std\": 0.0,\n        \"min\": 0.0,\n        \"max\": 0.0,\n        \"num_unique_values\": 1,\n        \"samples\": [\n          0.0\n        ],\n        \"semantic_type\": \"\",\n        \"description\": \"\"\n      }\n    },\n    {\n      \"column\": \"counts_max\",\n      \"properties\": {\n        \"dtype\": \"number\",\n        \"std\": 63.32164974256044,\n        \"min\": 0.0,\n        \"max\": 7412.0,\n        \"num_unique_values\": 261,\n        \"samples\": [\n          66.0\n        ],\n        \"semantic_type\": \"\",\n        \"description\": \"\"\n      }\n    },\n    {\n      \"column\": \"counts_sum\",\n      \"properties\": {\n        \"dtype\": \"number\",\n        \"std\": 14290.862218928069,\n        \"min\": 0.0,\n        \"max\": 1444446.0,\n        \"num_unique_values\": 4773,\n        \"samples\": [\n          1539.0\n        ],\n        \"semantic_type\": \"\",\n        \"description\": \"\"\n      }\n    },\n    {\n      \"column\": \"counts_mean\",\n      \"properties\": {\n        \"dtype\": \"number\",\n        \"std\": 1.1404406846164028,\n        \"min\": 0.0,\n        \"max\": 115.26981086904429,\n        \"num_unique_values\": 10612,\n        \"samples\": [\n          0.07597159045566879\n        ],\n        \"semantic_type\": \"\",\n        \"description\": \"\"\n      }\n    },\n    {\n      \"column\": \"counts_nnzero\",\n      \"properties\": {\n        \"dtype\": \"number\",\n        \"std\": 1028,\n        \"min\": 0,\n        \"max\": 12441,\n        \"num_unique_values\": 4013,\n        \"samples\": [\n          4691\n        ],\n        \"semantic_type\": \"\",\n        \"description\": \"\"\n      }\n    },\n    {\n      \"column\": \"counts_variance\",\n      \"properties\": {\n        \"dtype\": \"number\",\n        \"std\": 160.41145409377248,\n        \"min\": 0.0,\n        \"max\": 25486.79903993715,\n        \"num_unique_values\": 15268,\n        \"samples\": [\n          0.26225574253928446\n        ],\n        \"semantic_type\": \"\",\n        \"description\": \"\"\n      }\n    }\n  ]\n}"
            }
          },
          "metadata": {},
          "execution_count": 16
        }
      ]
    },
    {
      "cell_type": "markdown",
      "source": [
        "# Visualizing metrics\n",
        "\n",
        "These measures make visualizing QC measures straightforward\n",
        "\n",
        "- knee plot on cells and genes\n",
        "- features detected vs counts\n",
        "- genes mean vs variance\n",
        "\n",
        "Plots can be generated from within python"
      ],
      "metadata": {
        "id": "0VtL2GSONnhe"
      }
    },
    {
      "cell_type": "markdown",
      "source": [
        "## Command line\n",
        "\n",
        "The `mx` tool has the facility to generate the knee plot directly from the command line"
      ],
      "metadata": {
        "id": "Ds0Jw6rBNqFI"
      }
    },
    {
      "cell_type": "code",
      "source": [
        "!mx plot -o knee.png -m knee -gi genes.txt -bi barcodes.txt matrix.mtx"
      ],
      "metadata": {
        "id": "nzhaOgXdNfKx"
      },
      "execution_count": 18,
      "outputs": []
    },
    {
      "cell_type": "code",
      "source": [
        "from IPython.display import Image\n",
        "Image(filename='knee.png')"
      ],
      "metadata": {
        "id": "BioZrdh7OEC-",
        "outputId": "2745e2a2-c0bf-4d8f-ed89-b5a32d97ed24",
        "colab": {
          "base_uri": "https://localhost:8080/",
          "height": 793
        }
      },
      "execution_count": 19,
      "outputs": [
        {
          "output_type": "execute_result",
          "data": {
            "image/png": "[encoded data removed]",
            "text/plain": [
              "<IPython.core.display.Image object>"
            ]
          },
          "metadata": {},
          "execution_count": 19
        }
      ]
    },
    {
      "cell_type": "markdown",
      "source": [
        "## Python\n",
        "\n",
        "You can also make the knee plot from within a python environment"
      ],
      "metadata": {
        "id": "GP6xelXYPBQ2"
      }
    },
    {
      "cell_type": "code",
      "source": [
        "import matplotlib.pyplot as plt\n",
        "from mx.mx_plot import mx_plot_knee\n",
        "\n",
        "mtx = mmread(\"matrix.mtx\")\n",
        "\n",
        "fig, ax = plt.subplots(figsize=(10,10))\n",
        "ax = mx_plot_knee(mtx, ax)\n",
        "\n",
        "fig.savefig(\"knee.png\", dpi=300)\n",
        "fig.show()"
      ],
      "metadata": {
        "id": "oG_yW3byO6Jn",
        "outputId": "bd70d2c9-4a67-4f00-9a22-aad99cb1db36",
        "colab": {
          "base_uri": "https://localhost:8080/",
          "height": 787
        }
      },
      "execution_count": 22,
      "outputs": [
        {
          "output_type": "display_data",
          "data": {
            "text/plain": [
              "<Figure size 1000x1000 with 1 Axes>"
            ],
            "image/png": "[encoded data removed]"
          },
          "metadata": {}
        }
      ]
    },
    {
      "cell_type": "code",
      "source": [
        "_"
      ],
      "metadata": {
        "id": "BHa93_79PIR0"
      },
      "execution_count": null,
      "outputs": []
    }
  ],
  "metadata": {
    "colab": {
      "name": "scratchpad",
      "provenance": [],
      "include_colab_link": true
    },
    "kernelspec": {
      "display_name": "Python 3",
      "name": "python3"
    }
  },
  "nbformat": 4,
  "nbformat_minor": 0
}