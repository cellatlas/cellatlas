{
  "cells": [
    {
      "cell_type": "markdown",
      "metadata": {
        "id": "view-in-github",
        "colab_type": "text"
      },
      "source": [
        "<a href=\"https://colab.research.google.com/github/cellatlas/cellatlas/blob/main/docs/PREPROCESS_MAT.ipynb\" target=\"_parent\"><img src=\"https://colab.research.google.com/assets/colab-badge.svg\" alt=\"Open In Colab\"/></a>"
      ]
    },
    {
      "cell_type": "markdown",
      "source": [
        "---\n",
        "title: Preprocess Matrix\n",
        "date: 2024-07-07\n",
        "authors:\n",
        "  - name: A. Sina Booeshaghi\n",
        "---"
      ],
      "metadata": {
        "id": "CfdXl7aqPwe9"
      }
    },
    {
      "cell_type": "markdown",
      "source": [
        "Short description of the steps we are taking (insert image from cell atlas paper)\n",
        "\n",
        "1. Filter matrix\n",
        "2. Normalize matrix\n",
        "3. Assign celltypes or cell categories"
      ],
      "metadata": {
        "id": "uvNcLj4eP0nk"
      }
    },
    {
      "cell_type": "code",
      "source": [
        "!pip install --quiet git+https://github.com/cellatlas/ec.git\n",
        "!pip install --quiet git+https://github.com/cellatlas/mx.git"
      ],
      "metadata": {
        "id": "7y51ZaicVDg_"
      },
      "execution_count": null,
      "outputs": []
    },
    {
      "cell_type": "code",
      "source": [
        "# https://www.10xgenomics.com/datasets/human-pbmc-from-a-healthy-donor-1-k-cells-v-2-2-standard-4-0-0\n",
        "!wget --quiet --show-progress https://cf.10xgenomics.com/samples/cell-vdj/4.0.0/sc5p_v2_hs_PBMC_1k/sc5p_v2_hs_PBMC_1k_raw_feature_bc_matrix.tar.gz\n",
        "!tar -xzf sc5p_v2_hs_PBMC_1k_raw_feature_bc_matrix.tar.gz\n",
        "!gunzip raw_feature_bc_matrix/*"
      ],
      "metadata": {
        "id": "2HnHgH61Q0W0",
        "outputId": "b8ecfe90-3841-40f4-edda-8e675ff0bfb4",
        "colab": {
          "base_uri": "https://localhost:8080/"
        }
      },
      "execution_count": 23,
      "outputs": [
        {
          "output_type": "stream",
          "name": "stdout",
          "text": [
            "sc5p_v2_hs_PBMC_1k_ 100%[===================>]  14.78M  27.4MB/s    in 0.5s    \n"
          ]
        }
      ]
    },
    {
      "cell_type": "code",
      "source": [
        "!cut -f2 raw_feature_bc_matrix/features.tsv > raw_feature_bc_matrix/genes.txt\n",
        "!cut -f1 -d'-' raw_feature_bc_matrix/barcodes.tsv > raw_feature_bc_matrix/barcodes.txt"
      ],
      "metadata": {
        "id": "-HFeCh8kQ3Dq"
      },
      "execution_count": 33,
      "outputs": []
    },
    {
      "cell_type": "code",
      "source": [
        "from scipy.io import mmread, mmwrite; mmwrite(\"matrix.mtx\", mmread(\"raw_feature_bc_matrix/matrix.mtx\").T.tocsr())"
      ],
      "metadata": {
        "id": "ZqZWgxA9R3Zu"
      },
      "execution_count": 37,
      "outputs": []
    },
    {
      "cell_type": "code",
      "source": [
        "!ln -s raw_feature_bc_matrix/genes.txt .\n",
        "!ln -s raw_feature_bc_matrix/barcodes.txt ."
      ],
      "metadata": {
        "id": "BthI_NS0RvCL"
      },
      "execution_count": 43,
      "outputs": []
    },
    {
      "cell_type": "markdown",
      "source": [
        "# Filter matrix"
      ],
      "metadata": {
        "id": "RPCPtmk0P2tZ"
      }
    },
    {
      "cell_type": "markdown",
      "source": [
        "## Command line"
      ],
      "metadata": {
        "id": "OH3tXr0fP40F"
      }
    },
    {
      "cell_type": "code",
      "execution_count": 45,
      "metadata": {
        "colab": {
          "base_uri": "https://localhost:8080/"
        },
        "id": "lIYdn1woOS1n",
        "outputId": "57700837-63f4-4814-e1b9-5ac95120fba1"
      },
      "outputs": [
        {
          "output_type": "stream",
          "name": "stdout",
          "text": [
            "Filtered to 1,034 cells with at least 367 UMIs.\n"
          ]
        }
      ],
      "source": [
        "!mx filter -c 2 2 -bi barcodes.txt -bo barcodes.filt.txt -o matrix.filt.mtx matrix.mtx"
      ]
    },
    {
      "cell_type": "markdown",
      "source": [
        "## Python"
      ],
      "metadata": {
        "id": "O1jFl4buSvy_"
      }
    },
    {
      "cell_type": "code",
      "source": [
        "from mx.mx_filter import mx_filter\n",
        "from scipy.io import mmread\n",
        "import pandas as pd\n",
        "\n",
        "mtx = mmread(\"matrix.mtx\").tocsr()\n",
        "bcs = pd.read_csv(\"barcodes.txt\", index_col=0, header=None)\n",
        "fbcs, fmtx = mx_filter(mtx.copy(), bcs.index.values, sum_axis=1, comps=[2,2], select_axis=None)"
      ],
      "metadata": {
        "id": "T78g7USIRsYd",
        "outputId": "f69ce460-f4c4-49f7-92da-e972155b05f7",
        "colab": {
          "base_uri": "https://localhost:8080/"
        }
      },
      "execution_count": 50,
      "outputs": [
        {
          "output_type": "stream",
          "name": "stdout",
          "text": [
            "Filtered to 1,034 cells with at least 367 UMIs.\n"
          ]
        }
      ]
    },
    {
      "cell_type": "markdown",
      "source": [
        "# Normalize counts"
      ],
      "metadata": {
        "id": "-zMuDjWZTsLn"
      }
    },
    {
      "cell_type": "markdown",
      "source": [
        "## Comand line"
      ],
      "metadata": {
        "id": "aNB8Hmv4Tu62"
      }
    },
    {
      "cell_type": "code",
      "source": [
        "!mx normalize -m log1pPF -o matrix.norm.mtx matrix.filt.mtx"
      ],
      "metadata": {
        "id": "Jfwut6vIT9ns"
      },
      "execution_count": 52,
      "outputs": []
    },
    {
      "cell_type": "markdown",
      "source": [
        "## Python"
      ],
      "metadata": {
        "id": "D061BjPdTwLW"
      }
    },
    {
      "cell_type": "code",
      "source": [
        "from scipy.io import mmread, mmwrite\n",
        "from mx.mx_normalize import mx_normalize\n",
        "\n",
        "mtx = mmread(\"matrix.filt.mtx\").tocsr()\n",
        "nmtx = mx_normalize(mtx.copy(), \"log1pPF\")"
      ],
      "metadata": {
        "id": "OwqnSXB3UF_M"
      },
      "execution_count": 53,
      "outputs": []
    },
    {
      "cell_type": "markdown",
      "source": [
        "# Assign cell types"
      ],
      "metadata": {
        "id": "BzPqVcWRTxny"
      }
    },
    {
      "cell_type": "code",
      "source": [
        "!wget --quiet --show-progress https://raw.githubusercontent.com/cellatlas/human/main/markers/blood/markers.txt"
      ],
      "metadata": {
        "id": "F_eBhiCFUrJO",
        "outputId": "c439cbf7-b28b-4305-9579-be68539f04f4",
        "colab": {
          "base_uri": "https://localhost:8080/"
        }
      },
      "execution_count": 55,
      "outputs": [
        {
          "output_type": "stream",
          "name": "stdout",
          "text": [
            "\rmarkers.txt           0%[                    ]       0  --.-KB/s               \rmarkers.txt         100%[===================>]   5.92K  --.-KB/s    in 0s      \n"
          ]
        }
      ]
    },
    {
      "cell_type": "markdown",
      "source": [
        "## Command line"
      ],
      "metadata": {
        "id": "NdhNv7MiTzce"
      }
    },
    {
      "cell_type": "code",
      "source": [
        "!ec clean -o markers.txt markers.txt"
      ],
      "metadata": {
        "id": "7pFMR_8_VWtR"
      },
      "execution_count": 77,
      "outputs": []
    },
    {
      "cell_type": "code",
      "source": [
        "# these genes are not in the index so we remove it\n",
        "!ec filter -bt <(printf \"TM4SF19-TCTEX1D2\\nFCGR2C\\nCORO7-PAM16\") -o clean.markers.txt markers.txt"
      ],
      "metadata": {
        "id": "JyFrs8hrWXaB"
      },
      "execution_count": 86,
      "outputs": []
    },
    {
      "cell_type": "code",
      "source": [
        "# verify they are not in the file\n",
        "!grep \"TM4SF19-TCTEX1D2\" clean.markers.txt\n",
        "!grep \"FCGR2C\" clean.markers.txt\n",
        "!grep \"CORO7-PAM16\" clean.markers.txt"
      ],
      "metadata": {
        "id": "3fxPSKkeXLSL"
      },
      "execution_count": 92,
      "outputs": []
    },
    {
      "cell_type": "code",
      "source": [
        "!ec index -g groups.txt -t targets.txt -e markers.ec.txt clean.markers.txt"
      ],
      "metadata": {
        "id": "n8Xpw2A8VIg7"
      },
      "execution_count": 88,
      "outputs": []
    },
    {
      "cell_type": "code",
      "source": [
        "!mx extract -t targets.txt -gi genes.txt -go extract_genes.txt -o extract.mtx matrix.norm.mtx"
      ],
      "metadata": {
        "id": "w6b8OVUWVdZ7"
      },
      "execution_count": 89,
      "outputs": []
    },
    {
      "cell_type": "code",
      "source": [
        "!mx clean -gi extract_genes.txt -go clean_genes.txt -bi barcodes.filt.txt -bo clean_barcodes.txt -o clean.mtx --bad extract.mtx"
      ],
      "metadata": {
        "id": "KSUoG0JUV83w",
        "outputId": "2f90c195-2a00-4545-df1a-802ea213bdac",
        "colab": {
          "base_uri": "https://localhost:8080/"
        }
      },
      "execution_count": 90,
      "outputs": [
        {
          "output_type": "stream",
          "name": "stdout",
          "text": [
            "Dropping 7 cells\n",
            "Dropping 70 genes\n"
          ]
        }
      ]
    },
    {
      "cell_type": "code",
      "source": [
        "!mx normalize -m rank -o rank.mtx clean.mtx"
      ],
      "metadata": {
        "id": "VvoGsftIYX8a"
      },
      "execution_count": 93,
      "outputs": []
    },
    {
      "cell_type": "code",
      "source": [
        "!mx assign -g groups.txt -gi clean_genes.txt -bi clean_barcodes.txt -e markers.ec.txt -o assignments.txt rank.mtx"
      ],
      "metadata": {
        "id": "qG602OdDYd0m",
        "outputId": "9ad47669-8899-4de4-842c-d5ddc6e75397",
        "colab": {
          "base_uri": "https://localhost:8080/"
        }
      },
      "execution_count": 95,
      "outputs": [
        {
          "output_type": "stream",
          "name": "stdout",
          "text": [
            "Traceback (most recent call last):\n",
            "  File \"/usr/local/bin/mx\", line 8, in <module>\n",
            "    sys.exit(main())\n",
            "  File \"/usr/local/lib/python3.10/dist-packages/mx/main.py\", line 77, in main\n",
            "    COMMAND_TO_FUNCTION[sys.argv[1]](parser, args)\n",
            "  File \"/usr/local/lib/python3.10/dist-packages/mx/mx_assign.py\", line 1564, in validate_mx_assign_args\n",
            "    run_mx_assign(\n",
            "  File \"/usr/local/lib/python3.10/dist-packages/mx/mx_assign.py\", line 1699, in run_mx_assign\n",
            "    df, means = mx_assign(G, barcodes, genes, groups, markers_ec)\n",
            "  File \"/usr/local/lib/python3.10/dist-packages/mx/mx_assign.py\", line 1599, in mx_assign\n",
            "    centroids_init = get_marker_centroids(X_init, markers_ec, \"max\")\n",
            "  File \"/usr/local/lib/python3.10/dist-packages/mx/mx_assign.py\", line 1581, in get_marker_centroids\n",
            "    submx = X[:, v]\n",
            "IndexError: index 466 is out of bounds for axis 1 with size 466\n"
          ]
        }
      ]
    },
    {
      "cell_type": "markdown",
      "source": [
        "## Python"
      ],
      "metadata": {
        "id": "i5MyUAl2T08e"
      }
    },
    {
      "cell_type": "code",
      "source": [],
      "metadata": {
        "id": "tNARcnYzTEXS"
      },
      "execution_count": null,
      "outputs": []
    }
  ],
  "metadata": {
    "colab": {
      "name": "scratchpad",
      "provenance": [],
      "include_colab_link": true
    },
    "kernelspec": {
      "display_name": "Python 3",
      "name": "python3"
    }
  },
  "nbformat": 4,
  "nbformat_minor": 0
}