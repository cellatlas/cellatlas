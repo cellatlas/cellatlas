{
  "cells": [
    {
      "cell_type": "markdown",
      "metadata": {
        "id": "view-in-github",
        "colab_type": "text"
      },
      "source": [
        "<a href=\"https://colab.research.google.com/github/cellatlas/cellatlas/blob/main/docs/PREPROCESS_MAT.ipynb\" target=\"_parent\"><img src=\"https://colab.research.google.com/assets/colab-badge.svg\" alt=\"Open In Colab\"/></a>"
      ]
    },
    {
      "cell_type": "markdown",
      "source": [
        "---\n",
        "title: Preprocess Matrix\n",
        "date: 2024-07-07\n",
        "authors:\n",
        "  - name: A. Sina Booeshaghi\n",
        "---"
      ],
      "metadata": {
        "id": "CfdXl7aqPwe9"
      }
    },
    {
      "cell_type": "markdown",
      "source": [
        "Short description of the steps we are taking (insert image from cell atlas paper)\n",
        "\n",
        "1. Filter matrix\n",
        "2. Normalize matrix\n",
        "3. Assign celltypes or cell categories"
      ],
      "metadata": {
        "id": "uvNcLj4eP0nk"
      }
    },
    {
      "cell_type": "code",
      "source": [
        "!pip install --quiet git+https://github.com/cellatlas/ec.git\n",
        "!pip install --quiet git+https://github.com/cellatlas/mx.git"
      ],
      "metadata": {
        "colab": {
          "base_uri": "https://localhost:8080/"
        },
        "id": "7y51ZaicVDg_",
        "outputId": "266b7bcd-9c5c-4580-d425-7d8e63e86b46"
      },
      "execution_count": 1,
      "outputs": [
        {
          "output_type": "stream",
          "name": "stdout",
          "text": [
            "  Preparing metadata (setup.py) ... \u001b[?25l\u001b[?25hdone\n",
            "  Building wheel for ec (setup.py) ... \u001b[?25l\u001b[?25hdone\n",
            "  Preparing metadata (setup.py) ... \u001b[?25l\u001b[?25hdone\n",
            "\u001b[2K     \u001b[90m━━━━━━━━━━━━━━━━━━━━━━━━━━━━━━━━━━━━━━━━\u001b[0m \u001b[32m13.1/13.1 MB\u001b[0m \u001b[31m73.9 MB/s\u001b[0m eta \u001b[36m0:00:00\u001b[0m\n",
            "\u001b[2K     \u001b[90m━━━━━━━━━━━━━━━━━━━━━━━━━━━━━━━━━━━━━━━━\u001b[0m \u001b[32m124.4/124.4 kB\u001b[0m \u001b[31m15.9 MB/s\u001b[0m eta \u001b[36m0:00:00\u001b[0m\n",
            "\u001b[2K     \u001b[90m━━━━━━━━━━━━━━━━━━━━━━━━━━━━━━━━━━━━━━━━\u001b[0m \u001b[32m4.8/4.8 MB\u001b[0m \u001b[31m84.1 MB/s\u001b[0m eta \u001b[36m0:00:00\u001b[0m\n",
            "\u001b[?25h  Preparing metadata (setup.py) ... \u001b[?25l\u001b[?25hdone\n",
            "\u001b[2K     \u001b[90m━━━━━━━━━━━━━━━━━━━━━━━━━━━━━━━━━━━━━━━━\u001b[0m \u001b[32m45.2/45.2 MB\u001b[0m \u001b[31m13.9 MB/s\u001b[0m eta \u001b[36m0:00:00\u001b[0m\n",
            "\u001b[2K     \u001b[90m━━━━━━━━━━━━━━━━━━━━━━━━━━━━━━━━━━━━━━━━\u001b[0m \u001b[32m12.1/12.1 MB\u001b[0m \u001b[31m71.3 MB/s\u001b[0m eta \u001b[36m0:00:00\u001b[0m\n",
            "\u001b[2K     \u001b[90m━━━━━━━━━━━━━━━━━━━━━━━━━━━━━━━━━━━━━━━━\u001b[0m \u001b[32m2.1/2.1 MB\u001b[0m \u001b[31m87.3 MB/s\u001b[0m eta \u001b[36m0:00:00\u001b[0m\n",
            "\u001b[2K     \u001b[90m━━━━━━━━━━━━━━━━━━━━━━━━━━━━━━━━━━━━━━━━\u001b[0m \u001b[32m40.5/40.5 kB\u001b[0m \u001b[31m5.0 MB/s\u001b[0m eta \u001b[36m0:00:00\u001b[0m\n",
            "\u001b[2K     \u001b[90m━━━━━━━━━━━━━━━━━━━━━━━━━━━━━━━━━━━━━━━━\u001b[0m \u001b[32m22.0/22.0 MB\u001b[0m \u001b[31m40.7 MB/s\u001b[0m eta \u001b[36m0:00:00\u001b[0m\n",
            "\u001b[2K     \u001b[90m━━━━━━━━━━━━━━━━━━━━━━━━━━━━━━━━━━━━━━━━\u001b[0m \u001b[32m56.9/56.9 kB\u001b[0m \u001b[31m6.7 MB/s\u001b[0m eta \u001b[36m0:00:00\u001b[0m\n",
            "\u001b[?25h  Preparing metadata (setup.py) ... \u001b[?25l\u001b[?25hdone\n",
            "\u001b[2K     \u001b[90m━━━━━━━━━━━━━━━━━━━━━━━━━━━━━━━━━━━━━━━━\u001b[0m \u001b[32m85.7/85.7 kB\u001b[0m \u001b[31m10.3 MB/s\u001b[0m eta \u001b[36m0:00:00\u001b[0m\n",
            "\u001b[2K     \u001b[90m━━━━━━━━━━━━━━━━━━━━━━━━━━━━━━━━━━━━━━━━\u001b[0m \u001b[32m79.8/79.8 kB\u001b[0m \u001b[31m9.8 MB/s\u001b[0m eta \u001b[36m0:00:00\u001b[0m\n",
            "\u001b[?25h  Building wheel for mx (setup.py) ... \u001b[?25l\u001b[?25hdone\n",
            "  Building wheel for loompy (setup.py) ... \u001b[?25l\u001b[?25hdone\n",
            "  Building wheel for session-info (setup.py) ... \u001b[?25l\u001b[?25hdone\n",
            "\u001b[31mERROR: pip's dependency resolver does not currently take into account all the packages that are installed. This behaviour is the source of the following dependency conflicts.\n",
            "cudf-cu12 24.4.1 requires pandas<2.2.2dev0,>=2.0, but you have pandas 1.5.3 which is incompatible.\n",
            "google-colab 1.0.0 requires pandas==2.0.3, but you have pandas 1.5.3 which is incompatible.\u001b[0m\u001b[31m\n",
            "\u001b[0m"
          ]
        }
      ]
    },
    {
      "cell_type": "code",
      "source": [
        "# https://www.10xgenomics.com/datasets/human-pbmc-from-a-healthy-donor-1-k-cells-v-2-2-standard-4-0-0\n",
        "!wget --quiet --show-progress https://cf.10xgenomics.com/samples/cell-vdj/4.0.0/sc5p_v2_hs_PBMC_1k/sc5p_v2_hs_PBMC_1k_raw_feature_bc_matrix.tar.gz\n",
        "!tar -xzf sc5p_v2_hs_PBMC_1k_raw_feature_bc_matrix.tar.gz\n",
        "!gunzip raw_feature_bc_matrix/*"
      ],
      "metadata": {
        "colab": {
          "base_uri": "https://localhost:8080/"
        },
        "id": "2HnHgH61Q0W0",
        "outputId": "ffbdd4f8-bff2-47e7-ac28-c18158931083"
      },
      "execution_count": 2,
      "outputs": [
        {
          "output_type": "stream",
          "name": "stdout",
          "text": [
            "sc5p_v2_hs_PBMC_1k_ 100%[===================>]  14.78M  24.8MB/s    in 0.6s    \n"
          ]
        }
      ]
    },
    {
      "cell_type": "code",
      "source": [
        "!cut -f2 raw_feature_bc_matrix/features.tsv > raw_feature_bc_matrix/genes.txt\n",
        "!cut -f1 -d'-' raw_feature_bc_matrix/barcodes.tsv > raw_feature_bc_matrix/barcodes.txt"
      ],
      "metadata": {
        "id": "-HFeCh8kQ3Dq"
      },
      "execution_count": 3,
      "outputs": []
    },
    {
      "cell_type": "code",
      "source": [
        "from scipy.io import mmread, mmwrite; mmwrite(\"matrix.mtx\", mmread(\"raw_feature_bc_matrix/matrix.mtx\").T.tocsr())"
      ],
      "metadata": {
        "id": "ZqZWgxA9R3Zu"
      },
      "execution_count": 4,
      "outputs": []
    },
    {
      "cell_type": "code",
      "source": [
        "!ln -s raw_feature_bc_matrix/genes.txt .\n",
        "!ln -s raw_feature_bc_matrix/barcodes.txt ."
      ],
      "metadata": {
        "id": "BthI_NS0RvCL"
      },
      "execution_count": 5,
      "outputs": []
    },
    {
      "cell_type": "markdown",
      "source": [
        "# Filter matrix"
      ],
      "metadata": {
        "id": "RPCPtmk0P2tZ"
      }
    },
    {
      "cell_type": "markdown",
      "source": [
        "## Command line"
      ],
      "metadata": {
        "id": "OH3tXr0fP40F"
      }
    },
    {
      "cell_type": "code",
      "execution_count": 7,
      "metadata": {
        "colab": {
          "base_uri": "https://localhost:8080/"
        },
        "id": "lIYdn1woOS1n",
        "outputId": "6f1b1ca7-ff59-4591-a349-9acbb836245b"
      },
      "outputs": [
        {
          "output_type": "stream",
          "name": "stdout",
          "text": [
            "Filtered to 1,034 cells with at least 367 UMIs.\n"
          ]
        }
      ],
      "source": [
        "!mx filter -c 2 2 -bi barcodes.txt -bo barcodes.filt.txt -o matrix.filt.mtx matrix.mtx"
      ]
    },
    {
      "cell_type": "markdown",
      "source": [
        "## Python"
      ],
      "metadata": {
        "id": "O1jFl4buSvy_"
      }
    },
    {
      "cell_type": "code",
      "source": [
        "from mx.mx_filter import mx_filter\n",
        "from scipy.io import mmread\n",
        "import pandas as pd\n",
        "\n",
        "mtx = mmread(\"matrix.mtx\").tocsr()\n",
        "bcs = pd.read_csv(\"barcodes.txt\", index_col=0, header=None)\n",
        "fbcs, fmtx = mx_filter(mtx.copy(), bcs.index.values, sum_axis=1, comps=[2,2], select_axis=None)"
      ],
      "metadata": {
        "colab": {
          "base_uri": "https://localhost:8080/"
        },
        "id": "T78g7USIRsYd",
        "outputId": "f69ce460-f4c4-49f7-92da-e972155b05f7"
      },
      "execution_count": 50,
      "outputs": [
        {
          "output_type": "stream",
          "name": "stdout",
          "text": [
            "Filtered to 1,034 cells with at least 367 UMIs.\n"
          ]
        }
      ]
    },
    {
      "cell_type": "markdown",
      "source": [
        "# Normalize counts"
      ],
      "metadata": {
        "id": "-zMuDjWZTsLn"
      }
    },
    {
      "cell_type": "markdown",
      "source": [
        "## Comand line"
      ],
      "metadata": {
        "id": "aNB8Hmv4Tu62"
      }
    },
    {
      "cell_type": "code",
      "source": [
        "!mx normalize -m log1pPF -o matrix.norm.filt.mtx matrix.filt.mtx"
      ],
      "metadata": {
        "id": "Jfwut6vIT9ns"
      },
      "execution_count": 8,
      "outputs": []
    },
    {
      "cell_type": "markdown",
      "source": [
        "## Python"
      ],
      "metadata": {
        "id": "D061BjPdTwLW"
      }
    },
    {
      "cell_type": "code",
      "source": [
        "from scipy.io import mmread, mmwrite\n",
        "from mx.mx_normalize import mx_normalize\n",
        "\n",
        "mtx = mmread(\"matrix.filt.mtx\").tocsr()\n",
        "nmtx = mx_normalize(mtx.copy(), \"log1pPF\")"
      ],
      "metadata": {
        "id": "OwqnSXB3UF_M"
      },
      "execution_count": 53,
      "outputs": []
    },
    {
      "cell_type": "markdown",
      "source": [
        "# Assign cell types"
      ],
      "metadata": {
        "id": "BzPqVcWRTxny"
      }
    },
    {
      "cell_type": "code",
      "source": [
        "!wget --quiet --show-progress https://raw.githubusercontent.com/cellatlas/human/main/markers/blood/markers.txt"
      ],
      "metadata": {
        "colab": {
          "base_uri": "https://localhost:8080/"
        },
        "id": "F_eBhiCFUrJO",
        "outputId": "ea0c7d9c-5754-4ed7-d1a1-897c4d3a8412"
      },
      "execution_count": 9,
      "outputs": [
        {
          "output_type": "stream",
          "name": "stdout",
          "text": [
            "\rmarkers.txt           0%[                    ]       0  --.-KB/s               \rmarkers.txt         100%[===================>]   5.92K  --.-KB/s    in 0s      \n"
          ]
        }
      ]
    },
    {
      "cell_type": "markdown",
      "source": [
        "## Command line"
      ],
      "metadata": {
        "id": "NdhNv7MiTzce"
      }
    },
    {
      "cell_type": "code",
      "source": [
        "!ec clean -o markers.txt markers.txt"
      ],
      "metadata": {
        "id": "7pFMR_8_VWtR"
      },
      "execution_count": 10,
      "outputs": []
    },
    {
      "cell_type": "code",
      "source": [
        "# these genes are not in the index so we remove it\n",
        "!ec filter -bt <(printf \"TM4SF19-TCTEX1D2\\nFCGR2C\\nCORO7-PAM16\") -o markers.filt.txt markers.txt"
      ],
      "metadata": {
        "id": "JyFrs8hrWXaB"
      },
      "execution_count": 11,
      "outputs": []
    },
    {
      "cell_type": "code",
      "source": [
        "# verify they are not in the file\n",
        "!grep \"TM4SF19-TCTEX1D2\" markers.filt.txt\n",
        "!grep \"FCGR2C\" markers.filt.txt\n",
        "!grep \"CORO7-PAM16\" markers.filt.txt"
      ],
      "metadata": {
        "id": "3fxPSKkeXLSL"
      },
      "execution_count": 12,
      "outputs": []
    },
    {
      "cell_type": "code",
      "source": [
        "!ec index -g groups.txt -t targets.txt -e markers.ec.txt markers.filt.txt"
      ],
      "metadata": {
        "id": "n8Xpw2A8VIg7"
      },
      "execution_count": 13,
      "outputs": []
    },
    {
      "cell_type": "code",
      "source": [
        "!mx extract \\\n",
        "-t targets.txt \\\n",
        "-gi genes.txt -go genes.extract.txt \\\n",
        "-o matrix.extract.norm.filt.mtx \\\n",
        "matrix.norm.filt.mtx"
      ],
      "metadata": {
        "id": "w6b8OVUWVdZ7"
      },
      "execution_count": 14,
      "outputs": []
    },
    {
      "cell_type": "code",
      "source": [
        "!mx clean --bad \\\n",
        "-gi genes.extract.txt -go genes.clean.extract.txt \\\n",
        "-bi barcodes.filt.txt -bo barcodes.clean.filt.txt \\\n",
        "-o matrix.clean.extract.norm.filt.mtx \\\n",
        "matrix.extract.norm.filt.mtx"
      ],
      "metadata": {
        "colab": {
          "base_uri": "https://localhost:8080/"
        },
        "id": "KSUoG0JUV83w",
        "outputId": "fd72a8bd-065c-4453-8bc2-66fe2d523ca2"
      },
      "execution_count": 16,
      "outputs": [
        {
          "output_type": "stream",
          "name": "stdout",
          "text": [
            "Dropping 7 cells\n",
            "Dropping 70 genes\n"
          ]
        }
      ]
    },
    {
      "cell_type": "code",
      "source": [
        "!ec filter -bt genes.clean.extract.txt.bad -o markers.filt.txt markers.txt\n",
        "!ec filter -bt <(printf \"TM4SF19-TCTEX1D2\\nFCGR2C\\nCORO7-PAM16\") -o markers.filt.txt markers.filt.txt"
      ],
      "metadata": {
        "id": "fbJ-xU-Zpo0W"
      },
      "execution_count": 23,
      "outputs": []
    },
    {
      "cell_type": "code",
      "source": [
        "!ec index -g groups.txt -t targets.txt -e markers.ec.txt markers.filt.txt"
      ],
      "metadata": {
        "id": "5_Bbi0COp5OL"
      },
      "execution_count": 24,
      "outputs": []
    },
    {
      "cell_type": "code",
      "source": [
        "!mx extract \\\n",
        "-t targets.txt \\\n",
        "-gi genes.txt -go genes.extract.txt \\\n",
        "-o matrix.extract.norm.filt.mtx \\\n",
        "matrix.norm.filt.mtx"
      ],
      "metadata": {
        "id": "8b26qyohp5Kt"
      },
      "execution_count": 25,
      "outputs": []
    },
    {
      "cell_type": "code",
      "source": [
        "!mx clean --bad \\\n",
        "-gi genes.extract.txt -go genes.clean.extract.txt \\\n",
        "-bi barcodes.filt.txt -bo barcodes.clean.filt.txt \\\n",
        "-o matrix.clean.extract.norm.filt.mtx \\\n",
        "matrix.extract.norm.filt.mtx"
      ],
      "metadata": {
        "id": "TimBG-eYp9BU",
        "outputId": "ca40159c-5319-44dc-d58f-4485a958d7bc",
        "colab": {
          "base_uri": "https://localhost:8080/"
        }
      },
      "execution_count": 26,
      "outputs": [
        {
          "output_type": "stream",
          "name": "stdout",
          "text": [
            "Dropping 7 cells\n",
            "Dropping 0 genes\n"
          ]
        }
      ]
    },
    {
      "cell_type": "code",
      "source": [
        "!mx normalize -m rank -o rank.mtx matrix.clean.extract.norm.filt.mtx"
      ],
      "metadata": {
        "id": "VvoGsftIYX8a"
      },
      "execution_count": 27,
      "outputs": []
    },
    {
      "cell_type": "code",
      "source": [
        "!mx assign -g groups.txt -gi genes.clean.extract.txt -bi barcodes.clean.filt.txt -e markers.ec.txt -o assignments.txt rank.mtx"
      ],
      "metadata": {
        "colab": {
          "base_uri": "https://localhost:8080/"
        },
        "id": "qG602OdDYd0m",
        "outputId": "c60e051c-f22a-4573-9824-32e63a0092e0"
      },
      "execution_count": 28,
      "outputs": [
        {
          "output_type": "stream",
          "name": "stdout",
          "text": [
            "Initialization 0\n",
            "  Iteration 10\t time lapse 35.79607s\t ll change 0.00000\n",
            "Initialization converged: True\t time lapse 35.79615s\t ll -2430205244024.92920\n"
          ]
        }
      ]
    },
    {
      "cell_type": "code",
      "source": [
        "!head assignments.txt"
      ],
      "metadata": {
        "id": "O-QqPSy9qqQq",
        "outputId": "2973cce3-d6cf-47ea-9af0-32e175e2206e",
        "colab": {
          "base_uri": "https://localhost:8080/"
        }
      },
      "execution_count": 29,
      "outputs": [
        {
          "output_type": "stream",
          "name": "stdout",
          "text": [
            "barcodes\tlabel_id\tlabel\tent\tCD300LB\tATF5\tMED12L\tGPR146\tPIM2\tKLF12\tCX3CR1\tBAIAP2\tCDKN1A\tTBC1D9\tCTSW\tALDH2\tCOQ7\tMGLL\tNDRG1\tVASH1\tDPYSL2\tDAB2\tPLAAT3\tCXCR4\tFCER2\tAPLP2\tIGHM\tIL4R\tPLPP5\tTCL1A\tIL1A\tCLEC4A\tCD209\tCD163\tCD36\tIL1B\tTNFSF10\tCD14\tCD37\tMS4A1\tTFRC\tCD19\tCD52\tCD38\tCD27\tCD79B\tCD24\tCD74\tBLNK\tHSP90B1\tPTPRC\tCD79A\tBANK1\tCD40LG\tMZB1\tCD5\tTNFSF13B\tCDKN1C\tC1QB\tIFITM2\tITGAL\tCSF3R\tFCN1\tCSF1R\tMS4A7\tLYN\tC1QA\tITGAM\tIFITM3\tFCGR3B\tHLA-DPA1\tHLA-DPB1\tIFITM1\tHLA-DRB1\tRHOC\tPLBD1\tS100A12\tVCAN\tTYROBP\tRNASE2\tCST3\tLGALS2\tCLEC4E\tCRIP1\tS100A8\tCLU\tRETN\tMNDA\tDPP4\tCD93\tADAM28\tDUSP2\tDUSP10\tVAV3\tPPM1M\tCSRP1\tZNF366\tBTLA\tCYB5R3\tSLC24A4\tNET1\tLACC1\tCLNK\tCYP2E1\tDNASE1L3\tPRELID2\tDENND1B\tIL1RN\tCLEC10A\tCES1\tNLRP3\tFPR1\tFCER1A\tHBEGF\tANXA1\tAOAH\tMTMR11\tIL13RA1\tMPP7\tHNMT\tCSTA\tEREG\tF13A1\tPDLIM5\tLILRB1\tTSPAN32\tVAMP5\tARL4A\tNAMPT\tPLXNC1\tRAB10\tTCIRG1\tIFI30\tLILRB2\tSIRPB1\tDRAP1\tCAMKK2\tTXNIP\tCDC42EP3\tCD6\tFOXP3\tRTKN2\tIL2RA\tCD4\tGBP2\tICA1\tARID5B\tCORO1B\tFANK1\tCDH2\tPROM1\tMYC\tIL1RAP\tCD44\tMAL\tIFI44L\tOAS1\tTCF7\tNOSIP\tLEF1\tTSHZ2\tSELL\tIFIT3\tSOCS3\tCD3D\tISG15\tMX2\tMMP14\tOLIG2\tATF4\tKCNQ4\tJUNB\tPUM2\tJUN\tHMGA1\tMCAM\tCP\tGOLT1A\tECHS1\tTUBB\tCYB5A\tMT-CO2\tETFB\tDDT\tRIDA\tLILRA4\tSPRED2\tCD86\tSLC27A3\tITGAX\tCHN1\tHMG20B\tIL3RA\tMAP3K8\tCD83\tUSP18\tCD1E\tCLIC2\tPLD4\tFCGR2B\tCD1C\tETS2\tCD33\tCEACAM8\tTMEM273\tCCR6\tCLEC17A\tITGA5\tAREG\tFUT4\tADAM8\tTNFRSF4\tTIMP1\tGZMA\tLTB\tAQP3\tS100A4\tSPON2\tPRSS23\tDSTN\tRNF166\tRASSF1\tOSBPL5\tGAB3\tRGS19\tCD300A\tARL4C\tTM4SF19\tGZMB\tSH3BP5-AS1\tZEB2-AS1\tGNLY\tISG20\tCD8A\tCYLD\tFAS\tFLT1\tCDH1\tCLDN5\tPECAM1\tCD34\tVWF\tMKI67\tKIT\tIL6R\tCSF2RA\tICAM1\tCD69\tKRT7\tKRT8\tCTSD\tFAM210B\tGYPC\tMKRN1\tEIF1\tGMPR\tPABPC1\tIFI27\tDCAF12\tEIF4A1\tOST4\tSUB1\tFBXO7\tGATA1\tBLVRB\tPDCD1\tTNFRSF9\tTIGIT\tLAG3\tHAVCR2\tTOX\tCD244\tC1R\tTRDC\tTRGC1\tTRGC2\tTRDV2\tTRGV9\tRUNX1\tCYTL1\tNECTIN2\tAVP\tFCGR2A\tTLR2\tCD80\tIL17RA\tIL15RA\tTLR4\tCXCL10\tFCGR1A\tIL1R1\tNCAM1\tTIA1\tLAMP3\tCD207\tWDR4\tNUDT21\tRASGRP2\tSTIP1\tCD96\tBTN3A2\tPAPOLA\tCDK6\tPAICS\tBTN3A3\tKLRG1\tBATF\tSMC2\tSMC4\tCHEK1\tCD160\tHPRT1\tMARCO\tVSIG4\tCD68\tPLA2G12A\tPF4\tPPBP\tPLEK\tCR2\tTSC22D3\tCOCH\tITGB1\tANXA2\tIGHA2\tCD3G\tCD3E\tNEAT1\tMS4A6A\tIL6\tIL10\tMAF\tKLRB1\tSLC4A10\tTRAV1-2\tCCL2\tFGL2\tIGSF6\tTNIP1\tNEK6\tFRAT1\tCLEC7A\tHPSE\tEBI3\tCD46\tLILRB4\tITGA4\tITGA6\tINSR\tCD226\tSIGLEC7\tLILRA2\tICOS\tCD8B\tID3\tCD28\tGIMAP8\tEIF3L\tFHIT\tTRABD2A\tLRRN3\tGIMAP5\tSLC40A1\tCD55\tFAM117B\tSERINC5\tRSL1D1\tNELL2\tABLIM1\tEEF1B2\tEEF2\tGPR155\tPIK3IP1\tPSIP1\tSPINT2\tTHEM4\tTRAP1\tRCAN3\tEXOSC8\tRACK1\tDGKA\tTMEM123\tAIF1\tKLRC1\tKLRF1\tNKG7\tGZMM\tKIR3DL1\tKLRK1\tGZMH\tKLRD1\tPRF1\tPLAUR\tMLANA\tERBB2\tMITF\tNGFR\tPMEL\tMUC1\tPOU5F1\tFRAT2\tCMTM2\tXPO6\tCLC\tFPR2\tCXCR2\tCTBS\tPHC2\tKRT23\tFKBP2\tXBP1\tIGKC\tJCHAIN\tIGHG4\tIGHG1\tIGHG2\tIGHA1\tSDF2L1\tSLAMF7\tIGHG3\tSEC61B\tCCDC50\tSERPINF1\tPPP1R14B\tTCF4\tNRP1\tTSPAN13\tALOX5AP\tAPP\tCYB561A3\tSTMN1\tIRF8\tIRF7\tRGS18\tSPARC\tNRGN\tTUBB1\tITGA2B\tMYL9\tGNG11\tGP5\tTRIM16\tCCR10\tTNFRSF18\tADA\tIKZF2\tENTPD1\tCMTM7\tB3GNT2\tCCR4\tIL10RA\tTAGLN\tCXCR6\tSNHG8\tANP32B\tTRAC\tCD200\tPOU2AF1\tIL21\tTBX21\tTNF\tIL2\tIL23A\tRORC\tZNF683\tFOSB\tATF3\tFOS\tPRDM1\tKLF6\tmahalanobis_0\tmahalanobis_1\tmahalanobis_2\tmahalanobis_3\tmahalanobis_4\tmahalanobis_5\tmahalanobis_6\tmahalanobis_7\tmahalanobis_8\tmahalanobis_9\tmahalanobis_10\tmahalanobis_11\tmahalanobis_12\tmahalanobis_13\tmahalanobis_14\tmahalanobis_15\tmahalanobis_16\tmahalanobis_17\tmahalanobis_18\tmahalanobis_19\tmahalanobis_20\tmahalanobis_21\tmahalanobis_22\tmahalanobis_23\tmahalanobis_24\tmahalanobis_25\tmahalanobis_26\tmahalanobis_27\tmahalanobis_28\tmahalanobis_29\tmahalanobis_30\tmahalanobis_31\tmahalanobis_32\tmahalanobis_33\tmahalanobis_34\tmahalanobis_35\tmahalanobis_36\tmahalanobis_37\tmahalanobis_38\tmahalanobis_39\tmahalanobis_40\tmahalanobis_41\tmahalanobis_42\tmahalanobis_43\tmahalanobis_44\tmahalanobis_45\tmahalanobis_46\tmahalanobis_47\tmahalanobis_48\tmahalanobis_49\tmahalanobis_50\tmahalanobis_51\tmahalanobis_52\tmahalanobis_53\tmahalanobis_54\tmahalanobis_55\tmahalanobis_56\tmahalanobis_57\tmahalanobis_58\tmahalanobis_59\tmahalanobis_60\tmahalanobis_61\tmahalanobis_62\n",
            "AAACCTGCAGCCTGTG\t58\tT cell\t0.0\t0\t0\t0\t0\t0\t0\t0\t0\t0\t0\t799\t0\t0\t0\t994\t0\t0\t0\t0\t879\t0\t772\t0\t908\t0\t0\t0\t0\t0\t0\t0\t0\t0\t0\t222\t0\t0\t0\t778\t0\t867\t0\t0\t535\t0\t613\t832\t0\t0\t0\t0\t0\t0\t0\t0\t515\t0\t0\t0\t0\t0\t0\t0\t0\t0\t0\t863\t0\t751\t0\t0\t0\t0\t0\t688\t0\t0\t0\t0\t678\t0\t0\t0\t0\t0\t0\t0\t0\t0\t982\t0\t0\t0\t0\t0\t0\t0\t0\t0\t0\t0\t0\t0\t0\t0\t0\t0\t0\t0\t0\t726\t0\t0\t0\t0\t0\t0\t0\t0\t0\t0\t0\t0\t0\t0\t0\t0\t769\t0\t0\t0\t930\t0\t687\t830\t0\t0\t0\t0\t0\t0\t0\t0\t891\t0\t0\t0\t0\t0\t0\t0\t0\t0\t718\t876\t0\t0\t456\t0\t0\t611\t968\t0\t0\t0\t0\t0\t641\t0\t463\t0\t0\t0\t0\t0\t671\t0\t510\t0\t773\t0\t0\t0\t0\t0\t0\t0\t0\t0\t1016\t0\t0\t0\t0\t0\t0\t0\t0\t0\t0\t0\t995\t0\t0\t0\t0\t0\t0\t0\t967\t622\t827\t627\t0\t0\t1001\t0\t0\t0\t1001\t0\t0\t991\t0\t0\t0\t0\t0\t929\t0\t0\t0\t0\t0\t0\t0\t0\t0\t0\t0\t0\t0\t0\t0\t0\t0\t0\t0\t823\t0\t477\t0\t122\t0\t993\t392\t374\t542\t920\t0\t0\t0\t0\t0\t0\t0\t0\t0\t0\t1002\t0\t0\t1022\t1023\t0\t0\t0\t0\t0\t0\t0\t759\t0\t0\t0\t0\t0\t0\t0\t0\t0\t0\t968\t0\t946\t0\t0\t0\t988\t0\t971\t1016\t0\t0\t0\t0\t0\t0\t0\t0\t0\t0\t0\t0\t0\t0\t648\t0\t826\t902\t0\t0\t595\t0\t0\t0\t0\t0\t966\t0\t0\t0\t0\t0\t895\t1007\t0\t0\t0\t0\t0\t0\t0\t0\t0\t0\t0\t0\t0\t0\t0\t955\t937\t439\t0\t859\t0\t817\t0\t0\t0\t0\t662\t0\t835\t813\t351\t0\t0\t0\t0\t0\t0\t0\t963\t735\t0\t846\t0\t0\t0\t960\t822\t0\t0\t0\t0\t973\t0\t0\t0\t0\t0\t0\t0\t0\t0\t0\t0\t0\t0\t0\t0\t0\t0\t0\t837\t0\t0\t0\t0\t0\t0\t0\t0\t0\t0\t0\t0\t0\t0\t0\t0\t993\t0\t0\t0\t0\t0\t0\t0\t0\t0\t0\t0\t0\t0\t0\t0\t0\t0\t1001\t0\t0\t0\t0\t801\t0\t0\t978\t0\t1018\t0\t0\t0\t0\t0\t0\t0\t1017\t0\t857\t0\t632\t0\t0\t0.0\t0.0\t0.0\t0.0\t0.0\t0.0\t0.0\t0.0\t0.0\t0.0\t0.0\t0.0\t0.0\t0.0\t0.0\t0.0\t0.0\t0.0\t0.0\t0.0\t0.0\t0.0\t0.0\t0.0\t0.0\t0.0\t0.0\t0.0\t0.0\t0.0\t0.0\t0.0\t0.0\t0.0\t0.0\t0.0\t0.0\t0.0\t0.0\t0.0\t0.0\t0.0\t0.0\t0.0\t0.0\t0.0\t0.0\t0.0\t0.0\t0.0\t0.0\t0.0\t0.0\t0.0\t0.0\t0.0\t0.0\t0.0\t1.0\t0.0\t0.0\t0.0\t0.0\n",
            "AAACGGGTCGCTGATA\t9\tCD4-positive, CD25-positive, alpha-beta regulatory T cell\t0.0\t0\t0\t0\t0\t0\t0\t0\t0\t0\t0\t0\t0\t0\t0\t0\t0\t0\t0\t0\t891\t0\t0\t0\t0\t0\t0\t0\t0\t0\t0\t0\t0\t0\t0\t661\t0\t0\t0\t631\t0\t0\t0\t0\t0\t0\t0\t531\t0\t0\t0\t0\t0\t0\t0\t0\t0\t893\t0\t0\t0\t0\t0\t0\t0\t639\t0\t831\t845\t495\t784\t0\t0\t0\t0\t0\t0\t0\t0\t0\t521\t0\t0\t0\t0\t0\t0\t0\t0\t0\t0\t0\t0\t0\t0\t0\t0\t0\t0\t0\t0\t0\t0\t0\t0\t0\t0\t0\t0\t0\t0\t591\t0\t0\t0\t0\t0\t0\t0\t0\t0\t0\t936\t0\t1003\t0\t0\t0\t0\t0\t0\t0\t0\t1010\t992\t836\t0\t1020\t1025\t1022\t846\t957\t0\t998\t0\t1024\t0\t0\t0\t0\t968\t864\t0\t991\t564\t0\t770\t0\t622\t0\t0\t731\t0\t0\t0\t0\t0\t0\t896\t0\t335\t0\t0\t0\t0\t0\t0\t0\t91\t0\t793\t0\t0\t0\t0\t0\t0\t0\t976\t0\t0\t0\t0\t0\t0\t0\t0\t0\t0\t0\t0\t0\t0\t0\t0\t0\t0\t952\t0\t0\t0\t492\t835\t793\t0\t0\t0\t861\t0\t0\t0\t0\t0\t926\t0\t0\t0\t0\t0\t773\t0\t0\t0\t0\t0\t0\t0\t0\t0\t0\t0\t0\t0\t0\t0\t0\t0\t0\t0\t0\t919\t975\t0\t855\t0\t0\t409\t704\t878\t999\t0\t0\t0\t1023\t1024\t0\t0\t0\t0\t0\t0\t0\t0\t0\t0\t0\t0\t0\t0\t0\t0\t0\t0\t0\t0\t0\t0\t0\t0\t0\t0\t0\t0\t0\t0\t0\t0\t0\t0\t0\t0\t0\t0\t996\t0\t0\t0\t0\t0\t0\t0\t0\t0\t0\t0\t0\t0\t940\t0\t842\t712\t0\t936\t616\t0\t0\t0\t0\t0\t0\t0\t0\t0\t0\t0\t912\t0\t0\t0\t0\t0\t0\t0\t0\t0\t0\t988\t0\t0\t1023\t0\t960\t0\t0\t974\t958\t0\t0\t0\t0\t848\t0\t0\t679\t0\t0\t479\t639\t992\t770\t788\t0\t885\t982\t0\t0\t251\t0\t672\t0\t0\t0\t0\t0\t0\t0\t0\t0\t0\t0\t0\t0\t0\t0\t0\t0\t0\t0\t0\t0\t0\t0\t0\t0\t0\t0\t0\t0\t0\t0\t0\t0\t0\t0\t0\t0\t0\t0\t0\t0\t0\t0\t0\t0\t1003\t0\t0\t0\t0\t0\t0\t0\t0\t0\t0\t0\t0\t0\t0\t0\t0\t0\t0\t0\t894\t991\t0\t1000\t0\t0\t583\t549\t0\t0\t0\t0\t0\t0\t0\t0\t0\t0\t0\t0\t0\t0\t676\t0.0\t0.0\t0.0\t0.0\t0.0\t0.0\t0.0\t0.0\t0.0\t1.0\t0.0\t0.0\t0.0\t0.0\t0.0\t0.0\t0.0\t0.0\t0.0\t0.0\t0.0\t0.0\t0.0\t0.0\t0.0\t0.0\t0.0\t0.0\t0.0\t0.0\t0.0\t0.0\t0.0\t0.0\t0.0\t0.0\t0.0\t0.0\t0.0\t0.0\t0.0\t0.0\t0.0\t0.0\t0.0\t0.0\t0.0\t0.0\t0.0\t0.0\t0.0\t0.0\t0.0\t0.0\t0.0\t0.0\t0.0\t0.0\t0.0\t0.0\t0.0\t0.0\t0.0\n",
            "AAAGATGTCCTCGCAT\t5\tCD14-positive monocyte\t0.0\t0\t0\t0\t0\t0\t0\t0\t0\t0\t0\t0\t0\t0\t0\t0\t0\t0\t0\t0\t0\t0\t0\t0\t0\t0\t0\t0\t0\t0\t0\t0\t0\t0\t1023\t0\t0\t0\t0\t0\t0\t0\t0\t0\t945\t0\t0\t1014\t0\t0\t0\t0\t0\t0\t0\t0\t0\t0\t0\t967\t0\t0\t0\t0\t0\t0\t0\t0\t0\t0\t0\t0\t0\t1022\t1014\t1018\t0\t1016\t0\t0\t0\t1010\t0\t0\t0\t0\t0\t0\t0\t0\t0\t1026\t0\t0\t0\t0\t0\t0\t0\t0\t0\t0\t0\t0\t0\t0\t0\t0\t0\t0\t0\t1018\t0\t1026\t0\t0\t0\t0\t0\t0\t0\t0\t0\t0\t0\t0\t0\t0\t0\t1007\t0\t0\t0\t0\t943\t0\t0\t0\t0\t0\t0\t0\t0\t0\t0\t0\t0\t0\t0\t0\t0\t0\t0\t0\t0\t0\t0\t0\t0\t0\t0\t0\t0\t0\t0\t0\t0\t0\t973\t0\t1010\t0\t0\t0\t0\t0\t0\t0\t930\t0\t0\t0\t0\t0\t0\t0\t1024\t0\t0\t0\t0\t0\t0\t0\t0\t0\t0\t0\t0\t0\t0\t0\t0\t0\t0\t0\t0\t0\t0\t0\t0\t0\t0\t967\t0\t0\t0\t0\t0\t0\t0\t0\t0\t0\t0\t0\t0\t0\t0\t0\t0\t0\t0\t0\t0\t0\t1022\t0\t0\t0\t0\t0\t0\t0\t0\t0\t0\t0\t0\t0\t0\t1016\t0\t1008\t0\t0\t1014\t1013\t0\t0\t0\t0\t0\t0\t0\t0\t0\t0\t0\t0\t0\t0\t0\t0\t0\t0\t0\t0\t0\t1026\t1025\t0\t0\t0\t1025\t0\t1026\t0\t0\t0\t0\t0\t0\t0\t0\t0\t0\t0\t1024\t0\t0\t0\t0\t0\t0\t0\t0\t0\t0\t0\t0\t1015\t0\t0\t0\t1019\t0\t0\t0\t0\t1018\t0\t0\t0\t992\t0\t0\t0\t0\t0\t0\t0\t0\t1021\t0\t0\t0\t0\t0\t0\t0\t0\t0\t0\t0\t0\t0\t0\t0\t0\t0\t0\t0\t0\t0\t0\t0\t0\t0\t0\t1022\t0\t0\t1023\t0\t0\t765\t896\t0\t0\t0\t0\t0\t0\t0\t0\t686\t0\t0\t0\t0\t0\t0\t0\t0\t0\t0\t0\t0\t0\t0\t0\t0\t0\t0\t0\t0\t0\t0\t0\t0\t0\t0\t0\t0\t0\t0\t0\t0\t0\t0\t0\t0\t0\t0\t0\t0\t1025\t0\t0\t0\t0\t0\t0\t1025\t0\t0\t0\t0\t0\t0\t0\t1013\t0\t0\t0\t0\t0\t0\t0\t0\t0\t0\t0\t1024\t0\t0\t0\t0\t0\t0\t0\t0\t0\t0\t0\t0\t0\t0\t0\t0\t0\t1022\t0\t997\t0\t1024\t0.0\t0.0\t0.0\t0.0\t0.0\t1.0\t0.0\t0.0\t0.0\t0.0\t0.0\t0.0\t0.0\t0.0\t0.0\t0.0\t0.0\t0.0\t0.0\t0.0\t0.0\t0.0\t0.0\t0.0\t0.0\t0.0\t0.0\t0.0\t0.0\t0.0\t0.0\t0.0\t0.0\t0.0\t0.0\t0.0\t0.0\t0.0\t0.0\t0.0\t0.0\t0.0\t0.0\t0.0\t0.0\t0.0\t0.0\t0.0\t0.0\t0.0\t0.0\t0.0\t0.0\t0.0\t0.0\t0.0\t0.0\t0.0\t0.0\t0.0\t0.0\t0.0\t0.0\n",
            "AAAGCAAAGTATGACA\t16\tEffector memory CD4-positive, alpha-beta T cell\t0.0\t0\t1004\t0\t0\t949\t946\t0\t0\t0\t0\t0\t0\t0\t0\t0\t0\t0\t0\t0\t844\t0\t0\t0\t0\t0\t0\t0\t0\t0\t0\t0\t0\t0\t0\t737\t0\t0\t0\t991\t0\t0\t0\t0\t528\t0\t939\t302\t0\t0\t0\t0\t0\t900\t0\t0\t972\t0\t0\t0\t0\t0\t0\t0\t0\t575\t0\t0\t0\t883\t0\t0\t0\t0\t0\t0\t0\t0\t0\t0\t930\t0\t0\t0\t0\t972\t0\t0\t0\t0\t0\t0\t0\t0\t0\t875\t0\t0\t0\t0\t0\t0\t0\t0\t0\t0\t0\t0\t0\t0\t0\t0\t0\t0\t0\t0\t0\t0\t0\t0\t965\t0\t0\t998\t0\t0\t0\t0\t725\t0\t0\t0\t664\t0\t732\t805\t0\t0\t0\t0\t800\t1002\t0\t0\t860\t0\t0\t0\t0\t0\t474\t0\t0\t0\t625\t681\t728\t0\t0\t0\t955\t817\t0\t921\t0\t0\t0\t0\t803\t891\t0\t903\t0\t0\t0\t941\t622\t988\t419\t0\t0\t0\t0\t0\t0\t0\t0\t0\t0\t0\t0\t0\t0\t0\t0\t0\t0\t0\t0\t0\t0\t0\t982\t0\t950\t0\t0\t0\t0\t737\t0\t1020\t1024\t947\t0\t0\t993\t0\t0\t0\t0\t941\t0\t786\t0\t0\t0\t0\t0\t0\t0\t0\t0\t0\t0\t0\t0\t0\t0\t0\t0\t0\t0\t0\t0\t0\t0\t622\t0\t0\t0\t760\t0\t116\t1026\t0\t0\t825\t0\t879\t0\t0\t0\t0\t0\t0\t0\t0\t0\t0\t0\t0\t0\t0\t0\t0\t0\t0\t0\t0\t0\t0\t0\t0\t0\t0\t0\t0\t0\t0\t0\t0\t0\t0\t0\t0\t0\t0\t780\t0\t0\t0\t0\t0\t0\t0\t0\t0\t0\t0\t0\t0\t0\t0\t0\t0\t0\t617\t0\t1004\t0\t0\t788\t839\t743\t0\t0\t0\t990\t0\t0\t0\t0\t0\t0\t0\t0\t0\t0\t0\t0\t821\t0\t721\t0\t0\t0\t0\t0\t0\t0\t0\t934\t911\t667\t0\t0\t0\t632\t0\t0\t0\t0\t0\t0\t935\t542\t821\t0\t0\t0\t0\t960\t0\t790\t0\t713\t757\t0\t0\t0\t0\t0\t794\t0\t0\t0\t0\t0\t0\t0\t0\t0\t0\t0\t0\t0\t0\t0\t0\t0\t0\t0\t0\t0\t0\t0\t0\t0\t0\t0\t0\t0\t0\t0\t0\t0\t0\t0\t0\t0\t0\t0\t0\t0\t0\t0\t0\t0\t0\t0\t0\t0\t0\t0\t0\t0\t0\t0\t0\t0\t0\t0\t0\t0\t0\t0\t753\t0\t0\t524\t0\t0\t0\t0\t0\t0\t1002\t0\t0\t0\t0\t0\t0\t0\t993\t0\t0.0\t0.0\t0.0\t0.0\t0.0\t0.0\t0.0\t0.0\t0.0\t0.0\t0.0\t0.0\t0.0\t0.0\t0.0\t0.0\t1.0\t0.0\t0.0\t0.0\t0.0\t0.0\t0.0\t0.0\t0.0\t0.0\t0.0\t0.0\t0.0\t0.0\t0.0\t0.0\t0.0\t0.0\t0.0\t0.0\t0.0\t0.0\t0.0\t0.0\t0.0\t0.0\t0.0\t0.0\t0.0\t0.0\t0.0\t0.0\t0.0\t0.0\t0.0\t0.0\t0.0\t0.0\t0.0\t0.0\t0.0\t0.0\t0.0\t0.0\t0.0\t0.0\t0.0\n",
            "AAAGCAATCCATTCTA\t5\tCD14-positive monocyte\t0.0\t0\t0\t0\t0\t0\t0\t0\t0\t0\t0\t0\t0\t0\t0\t0\t0\t0\t0\t0\t0\t0\t0\t0\t0\t0\t0\t0\t0\t0\t0\t1025\t0\t0\t1021\t0\t0\t0\t0\t0\t0\t0\t0\t0\t0\t0\t0\t1011\t0\t0\t0\t0\t0\t0\t0\t0\t0\t0\t1024\t1009\t0\t0\t0\t0\t0\t0\t0\t1025\t0\t0\t1020\t0\t0\t0\t1025\t0\t0\t0\t0\t0\t1025\t1012\t0\t0\t0\t0\t0\t0\t0\t0\t0\t0\t0\t0\t0\t0\t0\t0\t0\t0\t0\t0\t0\t0\t0\t0\t0\t0\t0\t0\t0\t0\t0\t0\t0\t1026\t0\t0\t0\t0\t0\t1024\t0\t0\t0\t0\t0\t0\t0\t0\t0\t0\t0\t0\t0\t0\t0\t0\t0\t0\t0\t0\t0\t0\t0\t0\t0\t0\t0\t0\t0\t0\t0\t0\t0\t0\t0\t0\t0\t0\t0\t0\t0\t0\t0\t0\t0\t0\t0\t0\t0\t0\t0\t0\t0\t0\t0\t0\t965\t0\t0\t0\t0\t0\t0\t0\t0\t0\t0\t0\t0\t0\t0\t0\t0\t0\t0\t0\t0\t0\t0\t0\t0\t0\t0\t0\t0\t0\t0\t0\t0\t0\t0\t0\t0\t0\t0\t0\t0\t0\t0\t0\t0\t0\t0\t0\t0\t0\t0\t0\t0\t0\t0\t0\t0\t0\t0\t0\t0\t0\t0\t0\t0\t0\t0\t0\t0\t0\t0\t0\t0\t1021\t0\t0\t0\t0\t1023\t0\t0\t0\t0\t0\t0\t0\t0\t0\t0\t0\t0\t0\t0\t0\t0\t0\t0\t0\t0\t0\t0\t0\t1024\t0\t0\t0\t0\t0\t0\t0\t0\t0\t0\t0\t0\t0\t0\t0\t0\t0\t0\t0\t0\t0\t0\t0\t0\t0\t0\t0\t0\t0\t0\t0\t0\t1014\t0\t0\t0\t0\t0\t0\t0\t0\t0\t0\t1012\t1026\t0\t0\t0\t0\t0\t0\t0\t0\t0\t0\t0\t0\t0\t0\t0\t0\t0\t0\t0\t0\t0\t0\t1026\t0\t0\t0\t0\t0\t0\t0\t0\t0\t0\t0\t0\t0\t0\t0\t0\t0\t0\t0\t0\t0\t0\t0\t0\t0\t0\t0\t1004\t0\t0\t0\t0\t0\t0\t0\t0\t0\t0\t0\t0\t1026\t0\t0\t0\t0\t0\t0\t0\t0\t0\t0\t0\t0\t0\t0\t1026\t0\t0\t0\t0\t0\t0\t0\t0\t0\t0\t0\t0\t0\t0\t0\t0\t0\t0\t0\t0\t0\t0\t0\t0\t0\t0\t0\t1012\t0\t0\t0\t0\t0\t0\t0\t0\t0\t0\t0\t0\t0\t0\t1025\t0\t0\t0\t0\t0\t0\t0\t0\t0\t0\t0\t0\t0\t0\t0\t0\t1007\t0\t1016\t0.0\t0.0\t0.0\t0.0\t0.0\t1.0\t0.0\t0.0\t0.0\t0.0\t0.0\t0.0\t0.0\t0.0\t0.0\t0.0\t0.0\t0.0\t0.0\t0.0\t0.0\t0.0\t0.0\t0.0\t0.0\t0.0\t0.0\t0.0\t0.0\t0.0\t0.0\t0.0\t0.0\t0.0\t0.0\t0.0\t0.0\t0.0\t0.0\t0.0\t0.0\t0.0\t0.0\t0.0\t0.0\t0.0\t0.0\t0.0\t0.0\t0.0\t0.0\t0.0\t0.0\t0.0\t0.0\t0.0\t0.0\t0.0\t0.0\t0.0\t0.0\t0.0\t0.0\n",
            "AAATGCCCACTTAAGC\t46\tNaive thymus-derived CD4-positive, alpha-beta T cell\t0.0\t0\t0\t0\t0\t0\t988\t0\t0\t0\t0\t0\t0\t0\t0\t0\t0\t0\t0\t0\t0\t0\t0\t0\t0\t0\t0\t0\t0\t0\t0\t0\t0\t0\t0\t524\t0\t0\t0\t600\t0\t772\t0\t0\t0\t0\t676\t617\t0\t0\t0\t0\t0\t0\t0\t0\t0\t0\t0\t0\t0\t0\t0\t0\t0\t0\t0\t0\t0\t887\t0\t0\t0\t0\t0\t0\t0\t0\t0\t0\t742\t0\t0\t0\t0\t0\t0\t0\t0\t0\t0\t0\t0\t0\t0\t0\t0\t0\t0\t0\t0\t0\t0\t0\t0\t0\t0\t0\t0\t0\t0\t0\t0\t0\t0\t0\t0\t0\t0\t0\t0\t0\t950\t1012\t0\t0\t0\t0\t0\t0\t0\t0\t794\t0\t691\t0\t855\t0\t0\t0\t0\t978\t0\t0\t0\t0\t0\t0\t975\t0\t0\t970\t0\t0\t684\t952\t999\t0\t934\t0\t0\t626\t989\t0\t0\t0\t0\t0\t845\t0\t364\t0\t0\t0\t0\t998\t998\t1014\t755\t938\t836\t0\t0\t0\t0\t0\t0\t0\t0\t0\t0\t0\t0\t0\t0\t0\t0\t0\t0\t0\t0\t0\t0\t0\t0\t0\t0\t0\t0\t0\t0\t978\t0\t375\t0\t0\t0\t897\t0\t0\t0\t0\t0\t957\t0\t0\t0\t0\t0\t1015\t0\t0\t0\t0\t0\t0\t0\t0\t0\t0\t0\t0\t0\t0\t0\t0\t0\t0\t0\t709\t0\t838\t0\t858\t0\t0\t697\t926\t921\t1010\t0\t0\t0\t0\t0\t0\t0\t0\t0\t0\t0\t0\t0\t0\t0\t1013\t0\t0\t0\t0\t0\t0\t0\t0\t0\t0\t0\t0\t0\t0\t0\t0\t1021\t0\t0\t0\t0\t0\t0\t0\t1005\t0\t0\t0\t0\t0\t0\t0\t0\t0\t0\t0\t0\t0\t0\t0\t0\t858\t0\t0\t0\t0\t713\t881\t0\t0\t0\t0\t0\t0\t0\t0\t0\t0\t0\t0\t0\t0\t0\t0\t0\t0\t0\t0\t0\t0\t0\t0\t0\t0\t0\t0\t0\t966\t1008\t0\t898\t0\t871\t0\t883\t0\t0\t951\t0\t874\t974\t747\t0\t929\t828\t0\t909\t998\t871\t0\t905\t841\t0\t0\t0\t0\t0\t0\t0\t0\t0\t0\t0\t0\t0\t0\t0\t0\t0\t0\t0\t0\t0\t0\t0\t0\t0\t0\t0\t0\t1010\t878\t0\t0\t0\t0\t0\t0\t987\t0\t0\t0\t0\t0\t0\t0\t0\t0\t0\t0\t0\t0\t0\t1007\t0\t0\t0\t0\t0\t0\t0\t0\t0\t0\t0\t0\t0\t0\t0\t0\t0\t0\t0\t0\t993\t0\t0\t0\t0\t0\t0\t0\t0\t0\t0\t0\t0\t0\t0\t0\t0\t0.0\t0.0\t0.0\t0.0\t0.0\t0.0\t0.0\t0.0\t0.0\t0.0\t0.0\t0.0\t0.0\t0.0\t0.0\t0.0\t0.0\t0.0\t0.0\t0.0\t0.0\t0.0\t0.0\t0.0\t0.0\t0.0\t0.0\t0.0\t0.0\t0.0\t0.0\t0.0\t0.0\t0.0\t0.0\t0.0\t0.0\t0.0\t0.0\t0.0\t0.0\t0.0\t0.0\t0.0\t0.0\t0.0\t1.0\t0.0\t0.0\t0.0\t0.0\t0.0\t0.0\t0.0\t0.0\t0.0\t0.0\t0.0\t0.0\t0.0\t0.0\t0.0\t0.0\n",
            "AACACGTCAACAACCT\t47\tNaive thymus-derived CD8-positive, alpha-beta T cell\t0.0\t0\t0\t0\t0\t0\t0\t0\t0\t0\t0\t0\t0\t0\t0\t1004\t0\t0\t0\t0\t0\t0\t0\t0\t0\t0\t0\t0\t0\t0\t0\t0\t0\t0\t0\t834\t0\t0\t0\t943\t0\t761\t0\t0\t332\t0\t0\t869\t0\t0\t945\t0\t886\t0\t0\t0\t0\t0\t0\t0\t0\t0\t0\t0\t0\t0\t0\t0\t0\t0\t0\t0\t0\t0\t0\t0\t0\t0\t0\t0\t0\t0\t0\t0\t0\t0\t0\t0\t0\t0\t0\t941\t0\t0\t0\t0\t0\t0\t0\t0\t0\t0\t0\t0\t0\t0\t0\t0\t0\t0\t0\t0\t0\t0\t0\t0\t0\t0\t0\t0\t0\t0\t0\t0\t0\t0\t0\t0\t0\t0\t0\t0\t769\t0\t771\t849\t1011\t0\t0\t0\t0\t966\t0\t0\t929\t0\t0\t0\t0\t0\t977\t0\t0\t0\t970\t860\t892\t0\t1009\t0\t0\t759\t0\t0\t0\t0\t0\t0\t457\t957\t952\t0\t0\t0\t0\t0\t0\t0\t144\t0\t0\t0\t0\t0\t0\t0\t0\t0\t0\t0\t0\t0\t0\t0\t0\t0\t0\t0\t0\t0\t0\t0\t0\t0\t0\t0\t0\t0\t0\t0\t0\t989\t0\t0\t0\t0\t0\t0\t0\t0\t0\t0\t0\t0\t0\t0\t0\t0\t0\t795\t0\t0\t0\t0\t0\t0\t0\t0\t0\t0\t0\t0\t0\t0\t1012\t0\t0\t0\t0\t879\t934\t881\t0\t696\t0\t0\t670\t425\t594\t0\t0\t0\t0\t0\t0\t0\t0\t0\t0\t0\t0\t0\t0\t0\t0\t0\t0\t0\t0\t0\t0\t0\t0\t0\t0\t0\t0\t0\t0\t0\t0\t0\t0\t0\t0\t0\t0\t997\t868\t0\t0\t0\t0\t0\t0\t0\t0\t0\t0\t0\t0\t0\t0\t0\t0\t0\t0\t0\t0\t0\t0\t0\t962\t0\t0\t0\t0\t0\t0\t0\t0\t0\t0\t0\t0\t925\t0\t0\t0\t0\t0\t0\t0\t799\t939\t0\t992\t0\t0\t0\t0\t0\t0\t0\t776\t968\t888\t0\t0\t0\t971\t0\t0\t0\t901\t861\t923\t442\t0\t1018\t0\t932\t0\t0\t970\t0\t540\t957\t881\t661\t0\t0\t0\t0\t0\t0\t0\t0\t0\t0\t0\t0\t0\t0\t0\t0\t0\t0\t0\t0\t0\t0\t0\t0\t975\t0\t0\t0\t0\t0\t0\t0\t0\t0\t0\t0\t0\t0\t0\t0\t0\t0\t0\t0\t0\t0\t962\t943\t0\t970\t0\t0\t0\t0\t0\t0\t0\t0\t0\t0\t0\t1008\t0\t0\t905\t0\t0\t0\t0\t0\t797\t585\t0\t0\t0\t0\t0\t0\t0\t0\t0\t0\t0\t0\t650\t0\t0\t0.0\t0.0\t0.0\t0.0\t0.0\t0.0\t0.0\t0.0\t0.0\t0.0\t0.0\t0.0\t0.0\t0.0\t0.0\t0.0\t0.0\t0.0\t0.0\t0.0\t0.0\t0.0\t0.0\t0.0\t0.0\t0.0\t0.0\t0.0\t0.0\t0.0\t0.0\t0.0\t0.0\t0.0\t0.0\t0.0\t0.0\t0.0\t0.0\t0.0\t0.0\t0.0\t0.0\t0.0\t0.0\t0.0\t0.0\t1.0\t0.0\t0.0\t0.0\t0.0\t0.0\t0.0\t0.0\t0.0\t0.0\t0.0\t0.0\t0.0\t0.0\t0.0\t0.0\n",
            "AACACGTCAAGCGATG\t43\tMyeloid cell\t0.0\t0\t969\t0\t0\t0\t0\t0\t0\t1007\t0\t0\t887\t0\t0\t941\t983\t904\t0\t984\t0\t0\t862\t0\t0\t0\t0\t0\t897\t0\t980\t935\t0\t800\t820\t168\t0\t0\t0\t241\t0\t0\t0\t0\t807\t0\t436\t143\t0\t0\t0\t0\t0\t940\t0\t0\t362\t0\t799\t770\t912\t0\t900\t0\t880\t848\t0\t830\t876\t0\t859\t0\t857\t824\t792\t816\t0\t784\t906\t0\t395\t777\t0\t0\t873\t0\t917\t0\t0\t0\t0\t0\t0\t0\t0\t0\t953\t0\t0\t0\t0\t0\t0\t0\t985\t0\t0\t1003\t860\t0\t0\t750\t879\t0\t0\t0\t0\t906\t0\t974\t0\t0\t0\t0\t961\t889\t0\t929\t852\t819\t877\t0\t707\t0\t410\t713\t0\t0\t0\t0\t824\t839\t0\t0\t755\t0\t0\t0\t0\t0\t367\t0\t0\t0\t0\t0\t0\t0\t0\t0\t967\t0\t0\t0\t0\t0\t786\t0\t625\t0\t692\t0\t0\t0\t0\t0\t0\t0\t24\t743\t0\t0\t0\t0\t952\t927\t884\t0\t865\t0\t0\t0\t0\t0\t0\t0\t0\t997\t0\t0\t0\t0\t0\t0\t0\t0\t0\t0\t0\t950\t0\t0\t0\t682\t0\t0\t0\t0\t0\t0\t0\t0\t896\t0\t0\t0\t0\t0\t0\t0\t0\t0\t0\t0\t0\t0\t743\t0\t0\t0\t0\t763\t0\t0\t0\t0\t0\t822\t0\t0\t899\t367\t0\t324\t0\t0\t746\t496\t875\t0\t0\t984\t0\t0\t0\t0\t0\t0\t971\t0\t0\t0\t0\t0\t0\t0\t0\t0\t0\t0\t0\t0\t755\t0\t945\t0\t0\t0\t0\t0\t0\t0\t0\t0\t662\t838\t0\t0\t651\t0\t0\t0\t0\t0\t0\t952\t0\t0\t0\t0\t0\t852\t0\t0\t0\t845\t0\t438\t0\t921\t804\t0\t0\t0\t760\t818\t0\t0\t0\t0\t0\t0\t0\t897\t961\t760\t0\t922\t861\t0\t0\t0\t0\t846\t0\t0\t0\t0\t0\t0\t0\t0\t0\t0\t657\t0\t0\t0\t0\t0\t673\t0\t0\t476\t0\t712\t272\t367\t989\t0\t0\t0\t0\t0\t697\t0\t304\t792\t0\t715\t0\t0\t927\t0\t0\t0\t0\t0\t0\t0\t0\t0\t0\t0\t0\t0\t0\t874\t0\t0\t0\t0\t1011\t883\t875\t0\t0\t0\t0\t0\t0\t0\t0\t0\t0\t0\t0\t769\t0\t0\t795\t0\t0\t0\t0\t0\t0\t0\t869\t859\t896\t0\t950\t0\t0\t0\t0\t0\t0\t0\t0\t0\t0\t0\t714\t918\t0\t0\t0\t0\t655\t812\t0\t0\t0\t0\t0\t0\t0\t0\t0\t0\t936\t0\t822\t0\t672\t0.0\t0.0\t0.0\t0.0\t0.0\t0.0\t0.0\t0.0\t0.0\t0.0\t0.0\t0.0\t0.0\t0.0\t0.0\t0.0\t0.0\t0.0\t0.0\t0.0\t0.0\t0.0\t0.0\t0.0\t0.0\t0.0\t0.0\t0.0\t0.0\t0.0\t0.0\t0.0\t0.0\t0.0\t0.0\t0.0\t0.0\t0.0\t0.0\t0.0\t0.0\t0.0\t0.0\t1.0\t0.0\t0.0\t0.0\t0.0\t0.0\t0.0\t0.0\t0.0\t0.0\t0.0\t0.0\t0.0\t0.0\t0.0\t0.0\t0.0\t0.0\t0.0\t0.0\n",
            "AACACGTGTTATCCGA\t46\tNaive thymus-derived CD4-positive, alpha-beta T cell\t0.0\t0\t0\t0\t0\t959\t900\t0\t0\t0\t0\t0\t0\t0\t0\t0\t0\t0\t0\t0\t0\t0\t0\t0\t833\t0\t0\t0\t0\t0\t0\t0\t0\t0\t0\t714\t0\t0\t0\t612\t0\t0\t895\t0\t502\t0\t483\t406\t0\t0\t956\t0\t909\t0\t0\t0\t950\t0\t0\t0\t0\t0\t0\t0\t0\t510\t0\t0\t0\t686\t0\t0\t0\t0\t0\t0\t0\t0\t0\t0\t947\t0\t0\t0\t0\t0\t0\t0\t935\t0\t0\t0\t0\t0\t0\t816\t0\t0\t0\t0\t0\t0\t0\t0\t0\t0\t0\t0\t0\t0\t0\t808\t0\t0\t0\t0\t0\t0\t0\t0\t0\t0\t0\t1004\t0\t0\t0\t0\t0\t0\t0\t0\t584\t0\t406\t0\t1000\t0\t0\t0\t729\t864\t0\t890\t950\t0\t0\t0\t0\t0\t0\t940\t0\t0\t686\t702\t686\t929\t506\t0\t0\t704\t0\t0\t0\t0\t0\t0\t320\t0\t0\t839\t0\t0\t0\t0\t879\t0\t95\t786\t624\t0\t0\t0\t0\t0\t0\t0\t901\t0\t0\t0\t0\t0\t0\t0\t0\t0\t0\t0\t0\t0\t966\t0\t0\t0\t0\t0\t0\t910\t0\t963\t1006\t667\t0\t0\t811\t0\t0\t0\t0\t662\t0\t707\t0\t0\t0\t0\t0\t655\t0\t0\t980\t0\t0\t0\t0\t0\t0\t0\t0\t803\t0\t0\t0\t0\t0\t0\t0\t898\t959\t635\t0\t451\t0\t0\t704\t871\t657\t821\t0\t0\t0\t0\t0\t0\t0\t0\t0\t0\t0\t0\t0\t0\t0\t861\t0\t0\t0\t0\t0\t0\t0\t0\t0\t0\t0\t0\t0\t975\t0\t0\t0\t885\t858\t869\t935\t0\t0\t0\t0\t0\t0\t933\t0\t1009\t0\t0\t0\t0\t0\t0\t0\t0\t0\t0\t0\t364\t0\t928\t0\t0\t809\t895\t647\t0\t0\t0\t0\t919\t0\t0\t0\t0\t0\t950\t0\t0\t0\t0\t0\t0\t0\t983\t858\t0\t0\t0\t0\t0\t0\t0\t0\t869\t538\t0\t0\t0\t815\t0\t0\t0\t0\t526\t0\t734\t640\t676\t0\t0\t660\t0\t775\t0\t723\t0\t920\t858\t737\t0\t0\t0\t0\t0\t0\t0\t0\t0\t0\t0\t0\t0\t0\t0\t0\t0\t0\t0\t0\t0\t0\t0\t0\t0\t0\t0\t0\t0\t0\t0\t0\t0\t0\t0\t996\t0\t0\t0\t0\t0\t0\t0\t0\t0\t761\t0\t884\t848\t0\t0\t0\t0\t0\t0\t0\t0\t0\t0\t0\t0\t0\t0\t0\t0\t768\t0\t0\t671\t0\t0\t463\t783\t931\t0\t0\t0\t0\t0\t0\t0\t0\t0\t0\t0\t0\t0\t653\t0.0\t0.0\t0.0\t0.0\t0.0\t0.0\t0.0\t0.0\t0.0\t0.0\t0.0\t0.0\t0.0\t0.0\t0.0\t0.0\t0.0\t0.0\t0.0\t0.0\t0.0\t0.0\t0.0\t0.0\t0.0\t0.0\t0.0\t0.0\t0.0\t0.0\t0.0\t0.0\t0.0\t0.0\t0.0\t0.0\t0.0\t0.0\t0.0\t0.0\t0.0\t0.0\t0.0\t0.0\t0.0\t0.0\t1.0\t0.0\t0.0\t0.0\t0.0\t0.0\t0.0\t0.0\t0.0\t0.0\t0.0\t0.0\t0.0\t0.0\t0.0\t0.0\t0.0\n"
          ]
        }
      ]
    },
    {
      "cell_type": "code",
      "source": [
        "! tail -n +2 assignments.txt | cut -f 3 | sort | uniq -c | sort -nr"
      ],
      "metadata": {
        "id": "gVW4Rj6bqwBQ",
        "outputId": "aced52b0-b497-40b6-8ec1-48920396e35c",
        "colab": {
          "base_uri": "https://localhost:8080/"
        }
      },
      "execution_count": 30,
      "outputs": [
        {
          "output_type": "stream",
          "name": "stdout",
          "text": [
            "    249 CD14-positive monocyte\n",
            "    217 Naive thymus-derived CD8-positive, alpha-beta T cell\n",
            "    159 Naive thymus-derived CD4-positive, alpha-beta T cell\n",
            "    114 T cell\n",
            "     92 B cell\n",
            "     74 Natural killer cell\n",
            "     30 Myeloid cell\n",
            "     24 Circulating tumor cell\n",
            "     14 Platelet\n",
            "     10 CD1C-, CD141- dendritic cell\n",
            "     10 CD1C+ B dendritic cell\n",
            "      9 Effector memory CD4-positive, alpha-beta T cell\n",
            "      7 Plasmacytoid dendritic cell\n",
            "      4 Tissue resident memory T cell\n",
            "      3 Dendritic cell\n",
            "      2 Effector memory CD8-positive, alpha-beta T cell\n",
            "      1 Neoplastic cell\n",
            "      1 Naive T cell\n",
            "      1 Monocyte\n",
            "      1 Erythrocyte\n",
            "      1 Circulating fetal cell\n",
            "      1 Central memory CD4-positive, alpha-beta T cell\n",
            "      1 CD4-positive, CD25-positive, alpha-beta regulatory T cell\n",
            "      1 CD14-low, CD16-positive monocyte\n",
            "      1 Alpha-beta T cell\n"
          ]
        }
      ]
    },
    {
      "cell_type": "markdown",
      "source": [
        "## Python"
      ],
      "metadata": {
        "id": "i5MyUAl2T08e"
      }
    },
    {
      "cell_type": "code",
      "source": [],
      "metadata": {
        "id": "tNARcnYzTEXS"
      },
      "execution_count": null,
      "outputs": []
    }
  ],
  "metadata": {
    "colab": {
      "name": "scratchpad",
      "provenance": [],
      "include_colab_link": true
    },
    "kernelspec": {
      "display_name": "Python 3",
      "name": "python3"
    }
  },
  "nbformat": 4,
  "nbformat_minor": 0
}